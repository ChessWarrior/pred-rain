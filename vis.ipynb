{
 "cells": [
  {
   "cell_type": "markdown",
   "metadata": {},
   "source": [
    "# Data Visualization"
   ]
  },
  {
   "cell_type": "code",
   "execution_count": 20,
   "metadata": {},
   "outputs": [
    {
     "name": "stdout",
     "output_type": "stream",
     "text": [
      "data/\r\n",
      "data/SRAD2018_TRAIN_001\r\n"
     ]
    }
   ],
   "source": [
    "!find data/ -maxdepth 1 -type d"
   ]
  },
  {
   "cell_type": "code",
   "execution_count": 2,
   "metadata": {
    "scrolled": true
   },
   "outputs": [
    {
     "name": "stdout",
     "output_type": "stream",
     "text": [
      "5000\r\n"
     ]
    }
   ],
   "source": [
    "!ls data/SRAD2018_TRAIN_001/ | wc -l"
   ]
  },
  {
   "cell_type": "code",
   "execution_count": 3,
   "metadata": {},
   "outputs": [
    {
     "name": "stdout",
     "output_type": "stream",
     "text": [
      "61\r\n"
     ]
    }
   ],
   "source": [
    "!ls data/SRAD2018_TRAIN_001/RAD_206482464212530/ | wc -l"
   ]
  },
  {
   "cell_type": "code",
   "execution_count": 26,
   "metadata": {},
   "outputs": [],
   "source": [
    "from fastai.imports import *\n",
    "from pathlib import Path"
   ]
  },
  {
   "cell_type": "code",
   "execution_count": 5,
   "metadata": {},
   "outputs": [],
   "source": [
    "PATH = Path('data')"
   ]
  },
  {
   "cell_type": "markdown",
   "metadata": {},
   "source": [
    "Question: how to create training CSV files?"
   ]
  },
  {
   "cell_type": "markdown",
   "metadata": {},
   "source": [
    "## Animation"
   ]
  },
  {
   "cell_type": "markdown",
   "metadata": {},
   "source": [
    "Create mp4 videos from frames"
   ]
  },
  {
   "cell_type": "code",
   "execution_count": 40,
   "metadata": {},
   "outputs": [],
   "source": [
    "dir_name = list((PATH/'SRAD2018_TRAIN_001').iterdir())[0]"
   ]
  },
  {
   "cell_type": "code",
   "execution_count": 43,
   "metadata": {},
   "outputs": [
    {
     "data": {
      "text/plain": [
       "'RAD_486382464229531'"
      ]
     },
     "execution_count": 43,
     "metadata": {},
     "output_type": "execute_result"
    }
   ],
   "source": [
    "dir_name.name"
   ]
  },
  {
   "cell_type": "code",
   "execution_count": 39,
   "metadata": {},
   "outputs": [
    {
     "data": {
      "text/plain": [
       "'RAD_486382464229531'"
      ]
     },
     "execution_count": 39,
     "metadata": {},
     "output_type": "execute_result"
    }
   ],
   "source": [
    "dir_name.split('/')[-1]"
   ]
  },
  {
   "cell_type": "code",
   "execution_count": 51,
   "metadata": {
    "collapsed": true
   },
   "outputs": [
    {
     "name": "stdout",
     "output_type": "stream",
     "text": [
      "ffmpeg version n4.0.2 Copyright (c) 2000-2018 the FFmpeg developers\n",
      "  built with gcc 8.1.1 (GCC) 20180531\n",
      "  configuration: --prefix=/usr --disable-debug --disable-static --disable-stripping --enable-avresample --enable-fontconfig --enable-gmp --enable-gnutls --enable-gpl --enable-ladspa --enable-libaom --enable-libass --enable-libbluray --enable-libdrm --enable-libfreetype --enable-libfribidi --enable-libgsm --enable-libiec61883 --enable-libjack --enable-libmodplug --enable-libmp3lame --enable-libopencore_amrnb --enable-libopencore_amrwb --enable-libopenjpeg --enable-libopus --enable-libpulse --enable-libsoxr --enable-libspeex --enable-libssh --enable-libtheora --enable-libv4l2 --enable-libvidstab --enable-libvorbis --enable-libvpx --enable-libwebp --enable-libx264 --enable-libx265 --enable-libxcb --enable-libxml2 --enable-libxvid --enable-nvenc --enable-omx --enable-shared --enable-version3\n",
      "  libavutil      56. 14.100 / 56. 14.100\n",
      "  libavcodec     58. 18.100 / 58. 18.100\n",
      "  libavformat    58. 12.100 / 58. 12.100\n",
      "  libavdevice    58.  3.100 / 58.  3.100\n",
      "  libavfilter     7. 16.100 /  7. 16.100\n",
      "  libavresample   4.  0.  0 /  4.  0.  0\n",
      "  libswscale      5.  1.100 /  5.  1.100\n",
      "  libswresample   3.  1.100 /  3.  1.100\n",
      "  libpostproc    55.  1.100 / 55.  1.100\n",
      "Input #0, image2, from 'data/SRAD2018_TRAIN_001/RAD_486382464229531/RAD_486382464229531_0%02d.png':\n",
      "  Duration: 00:00:02.54, start: 0.000000, bitrate: N/A\n",
      "    Stream #0:0: Video: png, pal8(pc), 501x501 [SAR 3779:3779 DAR 1:1], 24 fps, 24 tbr, 24 tbn, 24 tbc\n",
      "Stream mapping:\n",
      "  Stream #0:0 -> #0:0 (png (native) -> h264 (libx264))\n",
      "Press [q] to stop, [?] for help\n",
      "\u001b[1;36m[libx264 @ 0x55ba315819c0] \u001b[0musing SAR=1/1\n",
      "\u001b[1;36m[libx264 @ 0x55ba315819c0] \u001b[0musing cpu capabilities: MMX2 SSE2Fast SSSE3 SSE4.2 AVX FMA3 BMI2 AVX2\n",
      "\u001b[1;36m[libx264 @ 0x55ba315819c0] \u001b[0mprofile High 4:4:4 Predictive, level 3.0, 4:4:4 8-bit\n",
      "\u001b[1;36m[libx264 @ 0x55ba315819c0] \u001b[0m264 - core 152 r2854 e9a5903 - H.264/MPEG-4 AVC codec - Copyleft 2003-2017 - http://www.videolan.org/x264.html - options: cabac=1 ref=3 deblock=1:0:0 analyse=0x1:0x111 me=hex subme=7 psy=1 psy_rd=1.00:0.00 mixed_ref=1 me_range=16 chroma_me=1 trellis=1 8x8dct=0 cqm=0 deadzone=21,11 fast_pskip=1 chroma_qp_offset=4 threads=9 lookahead_threads=1 sliced_threads=0 nr=0 decimate=1 interlaced=0 bluray_compat=0 constrained_intra=0 bframes=3 b_pyramid=2 b_adapt=1 b_bias=0 direct=1 weightb=1 open_gop=0 weightp=2 keyint=250 keyint_min=24 scenecut=40 intra_refresh=0 rc_lookahead=40 rc=crf mbtree=1 crf=23.0 qcomp=0.60 qpmin=0 qpmax=69 qpstep=4 ip_ratio=1.40 aq=1:1.00\n",
      "Output #0, mp4, to 'data/SRAD2018_TRAIN_001/RAD_486382464229531/RAD_486382464229531.mp4':\n",
      "  Metadata:\n",
      "    encoder         : Lavf58.12.100\n",
      "    Stream #0:0: Video: h264 (libx264) (avc1 / 0x31637661), yuv444p, 501x501 [SAR 1:1 DAR 1:1], q=-1--1, 24 fps, 12288 tbn, 24 tbc\n",
      "    Metadata:\n",
      "      encoder         : Lavc58.18.100 libx264\n",
      "    Side data:\n",
      "      cpb: bitrate max/min/avg: 0/0/0 buffer size: 0 vbv_delay: -1\n",
      "frame=   61 fps=0.0 q=-1.0 Lsize=      48kB time=00:00:02.41 bitrate= 163.7kbits/s speed=16.7x    \n",
      "video:47kB audio:0kB subtitle:0kB other streams:0kB global headers:0kB muxing overhead: 3.297117%\n",
      "\u001b[1;36m[libx264 @ 0x55ba315819c0] \u001b[0mframe I:1     Avg QP: 9.73  size:  3313\n",
      "\u001b[1;36m[libx264 @ 0x55ba315819c0] \u001b[0mframe P:16    Avg QP:20.09  size:   729\n",
      "\u001b[1;36m[libx264 @ 0x55ba315819c0] \u001b[0mframe B:44    Avg QP:27.68  size:   732\n",
      "\u001b[1;36m[libx264 @ 0x55ba315819c0] \u001b[0mconsecutive B-frames:  3.3%  0.0%  4.9% 91.8%\n",
      "\u001b[1;36m[libx264 @ 0x55ba315819c0] \u001b[0mmb I  I16..4: 90.2%  0.0%  9.8%\n",
      "\u001b[1;36m[libx264 @ 0x55ba315819c0] \u001b[0mmb P  I16..4:  2.1%  0.0%  1.5%  P16..4:  1.1%  0.5%  0.2%  0.0%  0.0%    skip:94.7%\n",
      "\u001b[1;36m[libx264 @ 0x55ba315819c0] \u001b[0mmb B  I16..4:  0.1%  0.0%  0.6%  B16..8:  5.8%  0.9%  0.2%  direct: 0.3%  skip:92.1%  L0:52.1% L1:46.0% BI: 1.9%\n",
      "\u001b[1;36m[libx264 @ 0x55ba315819c0] \u001b[0mcoded y,u,v intra: 14.9% 0.0% 0.0% inter: 0.7% 0.0% 0.0%\n",
      "\u001b[1;36m[libx264 @ 0x55ba315819c0] \u001b[0mi16 v,h,dc,p: 91%  5%  4%  0%\n",
      "\u001b[1;36m[libx264 @ 0x55ba315819c0] \u001b[0mi4 v,h,dc,ddl,ddr,vr,hd,vl,hu: 18% 14% 54%  2%  2%  3%  3%  2%  2%\n",
      "\u001b[1;36m[libx264 @ 0x55ba315819c0] \u001b[0mWeighted P-Frames: Y:25.0% UV:0.0%\n",
      "\u001b[1;36m[libx264 @ 0x55ba315819c0] \u001b[0mref P L0: 48.7%  2.0% 24.9% 21.4%  3.0%\n",
      "\u001b[1;36m[libx264 @ 0x55ba315819c0] \u001b[0mref B L0: 68.8% 26.0%  5.2%\n",
      "\u001b[1;36m[libx264 @ 0x55ba315819c0] \u001b[0mref B L1: 87.6% 12.4%\n",
      "\u001b[1;36m[libx264 @ 0x55ba315819c0] \u001b[0mkb/s:148.48\n"
     ]
    }
   ],
   "source": [
    "for directory in list((PATH/'SRAD2018_TRAIN_001').iterdir())[:1]:\n",
    "    dir_name = directory.name\n",
    "#     print(f'!ffmpeg -framerate 24 -i {directory}/{dir_name}_0%02d.png dir_name.mp4')\n",
    "    !ffmpeg -framerate 24 -i {directory}/{dir_name}_0%02d.png {directory}/{dir_name}.mp4"
   ]
  },
  {
   "cell_type": "code",
   "execution_count": 57,
   "metadata": {},
   "outputs": [
    {
     "data": {
      "text/html": [
       "<video width=\"320\" height=\"240\" controls><source src=\"data/SRAD2018_TRAIN_001/RAD_486382464229531/RAD_486382464229531.mp4\" type=\"video/mp4\"></video>"
      ],
      "text/plain": [
       "<IPython.core.display.HTML object>"
      ]
     },
     "metadata": {},
     "output_type": "display_data"
    }
   ],
   "source": [
    "%%HTML\n",
    "<video width=\"320\" height=\"240\" controls>\n",
    "  <source src=\"data/SRAD2018_TRAIN_001/RAD_486382464229531/RAD_486382464229531.mp4\" type=\"video/mp4\">\n",
    "</video>"
   ]
  },
  {
   "cell_type": "code",
   "execution_count": 62,
   "metadata": {},
   "outputs": [
    {
     "name": "stdout",
     "output_type": "stream",
     "text": [
      "ffmpeg version n4.0.2 Copyright (c) 2000-2018 the FFmpeg developers\n",
      "  built with gcc 8.1.1 (GCC) 20180531\n",
      "  configuration: --prefix=/usr --disable-debug --disable-static --disable-stripping --enable-avresample --enable-fontconfig --enable-gmp --enable-gnutls --enable-gpl --enable-ladspa --enable-libaom --enable-libass --enable-libbluray --enable-libdrm --enable-libfreetype --enable-libfribidi --enable-libgsm --enable-libiec61883 --enable-libjack --enable-libmodplug --enable-libmp3lame --enable-libopencore_amrnb --enable-libopencore_amrwb --enable-libopenjpeg --enable-libopus --enable-libpulse --enable-libsoxr --enable-libspeex --enable-libssh --enable-libtheora --enable-libv4l2 --enable-libvidstab --enable-libvorbis --enable-libvpx --enable-libwebp --enable-libx264 --enable-libx265 --enable-libxcb --enable-libxml2 --enable-libxvid --enable-nvenc --enable-omx --enable-shared --enable-version3\n",
      "  libavutil      56. 14.100 / 56. 14.100\n",
      "  libavcodec     58. 18.100 / 58. 18.100\n",
      "  libavformat    58. 12.100 / 58. 12.100\n",
      "  libavdevice    58.  3.100 / 58.  3.100\n",
      "  libavfilter     7. 16.100 /  7. 16.100\n",
      "  libavresample   4.  0.  0 /  4.  0.  0\n",
      "  libswscale      5.  1.100 /  5.  1.100\n",
      "  libswresample   3.  1.100 /  3.  1.100\n",
      "  libpostproc    55.  1.100 / 55.  1.100\n",
      "Input #0, image2, from 'data/*/RAD_326482464212*/*.png':\n",
      "  Duration: 00:01:01.00, start: 0.000000, bitrate: N/A\n",
      "    Stream #0:0: Video: png, pal8(pc), 501x501 [SAR 3779:3779 DAR 1:1], 24 fps, 24 tbr, 24 tbn, 24 tbc\n",
      "Stream mapping:\n",
      "  Stream #0:0 -> #0:0 (png (native) -> h264 (libx264))\n",
      "Press [q] to stop, [?] for help\n",
      "\u001b[1;36m[libx264 @ 0x561efcc17d80] \u001b[0musing SAR=1/1\n",
      "\u001b[1;36m[libx264 @ 0x561efcc17d80] \u001b[0musing cpu capabilities: MMX2 SSE2Fast SSSE3 SSE4.2 AVX FMA3 BMI2 AVX2\n",
      "\u001b[1;36m[libx264 @ 0x561efcc17d80] \u001b[0mprofile High 4:4:4 Predictive, level 3.0, 4:4:4 8-bit\n",
      "\u001b[1;36m[libx264 @ 0x561efcc17d80] \u001b[0m264 - core 152 r2854 e9a5903 - H.264/MPEG-4 AVC codec - Copyleft 2003-2017 - http://www.videolan.org/x264.html - options: cabac=1 ref=3 deblock=1:0:0 analyse=0x1:0x111 me=hex subme=7 psy=1 psy_rd=1.00:0.00 mixed_ref=1 me_range=16 chroma_me=1 trellis=1 8x8dct=0 cqm=0 deadzone=21,11 fast_pskip=1 chroma_qp_offset=4 threads=9 lookahead_threads=1 sliced_threads=0 nr=0 decimate=1 interlaced=0 bluray_compat=0 constrained_intra=0 bframes=3 b_pyramid=2 b_adapt=1 b_bias=0 direct=1 weightb=1 open_gop=0 weightp=2 keyint=250 keyint_min=24 scenecut=40 intra_refresh=0 rc_lookahead=40 rc=crf mbtree=1 crf=23.0 qcomp=0.60 qpmin=0 qpmax=69 qpstep=4 ip_ratio=1.40 aq=1:1.00\n",
      "Output #0, mp4, to 'full_length.mp4':\n",
      "  Metadata:\n",
      "    encoder         : Lavf58.12.100\n",
      "    Stream #0:0: Video: h264 (libx264) (avc1 / 0x31637661), yuv444p, 501x501 [SAR 1:1 DAR 1:1], q=-1--1, 24 fps, 12288 tbn, 24 tbc\n",
      "    Metadata:\n",
      "      encoder         : Lavc58.18.100 libx264\n",
      "    Side data:\n",
      "      cpb: bitrate max/min/avg: 0/0/0 buffer size: 0 vbv_delay: -1\n",
      "frame= 1464 fps=351 q=-1.0 Lsize=   13873kB time=00:01:00.87 bitrate=1866.9kbits/s speed=14.6x    \n",
      "video:13855kB audio:0kB subtitle:0kB other streams:0kB global headers:0kB muxing overhead: 0.128574%\n",
      "\u001b[1;36m[libx264 @ 0x561efcc17d80] \u001b[0mframe I:32    Avg QP:13.67  size: 14289\n",
      "\u001b[1;36m[libx264 @ 0x561efcc17d80] \u001b[0mframe P:409   Avg QP:23.83  size: 10347\n",
      "\u001b[1;36m[libx264 @ 0x561efcc17d80] \u001b[0mframe B:1023  Avg QP:32.24  size:  9285\n",
      "\u001b[1;36m[libx264 @ 0x561efcc17d80] \u001b[0mconsecutive B-frames:  6.2%  1.5%  1.0% 91.3%\n",
      "\u001b[1;36m[libx264 @ 0x561efcc17d80] \u001b[0mmb I  I16..4: 68.0%  0.0% 32.0%\n",
      "\u001b[1;36m[libx264 @ 0x561efcc17d80] \u001b[0mmb P  I16..4:  5.6%  0.0% 17.3%  P16..4:  9.5%  4.0%  3.2%  0.0%  0.0%    skip:60.3%\n",
      "\u001b[1;36m[libx264 @ 0x561efcc17d80] \u001b[0mmb B  I16..4:  0.2%  0.0%  9.1%  B16..8: 18.2%  6.0%  3.9%  direct: 1.5%  skip:61.1%  L0:49.3% L1:47.0% BI: 3.7%\n",
      "\u001b[1;36m[libx264 @ 0x561efcc17d80] \u001b[0mcoded y,u,v intra: 56.6% 0.0% 0.0% inter: 7.2% 0.0% 0.0%\n",
      "\u001b[1;36m[libx264 @ 0x561efcc17d80] \u001b[0mi16 v,h,dc,p: 72% 14% 10%  3%\n",
      "\u001b[1;36m[libx264 @ 0x561efcc17d80] \u001b[0mi4 v,h,dc,ddl,ddr,vr,hd,vl,hu: 20% 16% 38%  5%  4%  4%  5%  4%  4%\n",
      "\u001b[1;36m[libx264 @ 0x561efcc17d80] \u001b[0mWeighted P-Frames: Y:1.5% UV:0.0%\n",
      "\u001b[1;36m[libx264 @ 0x561efcc17d80] \u001b[0mref P L0: 49.6% 12.7% 23.8% 13.7%  0.1%\n",
      "\u001b[1;36m[libx264 @ 0x561efcc17d80] \u001b[0mref B L0: 70.6% 23.3%  6.1%\n",
      "\u001b[1;36m[libx264 @ 0x561efcc17d80] \u001b[0mref B L1: 85.6% 14.4%\n",
      "\u001b[1;36m[libx264 @ 0x561efcc17d80] \u001b[0mkb/s:1860.62\n"
     ]
    }
   ],
   "source": [
    "!ffmpeg -framerate 24 -pattern_type glob -i 'data/*/RAD_326482464212*/*.png' full_length.mp4"
   ]
  },
  {
   "cell_type": "code",
   "execution_count": 60,
   "metadata": {},
   "outputs": [
    {
     "data": {
      "text/html": [
       "<video width=\"320\" height=\"240\" controls>\n",
       "  <source src=\"full_length.mp4\" type=\"video/mp4\">\n",
       "</video>"
      ],
      "text/plain": [
       "<IPython.core.display.HTML object>"
      ]
     },
     "metadata": {},
     "output_type": "display_data"
    }
   ],
   "source": [
    "%%HTML\n",
    "<video width=\"320\" height=\"240\" controls>\n",
    "  <source src=\"full_length.mp4\" type=\"video/mp4\">\n",
    "</video>"
   ]
  },
  {
   "cell_type": "code",
   "execution_count": null,
   "metadata": {},
   "outputs": [],
   "source": []
  }
 ],
 "metadata": {
  "kernelspec": {
   "display_name": "Python 3",
   "language": "python",
   "name": "python3"
  },
  "language_info": {
   "codemirror_mode": {
    "name": "ipython",
    "version": 3
   },
   "file_extension": ".py",
   "mimetype": "text/x-python",
   "name": "python",
   "nbconvert_exporter": "python",
   "pygments_lexer": "ipython3",
   "version": "3.6.6"
  }
 },
 "nbformat": 4,
 "nbformat_minor": 2
}
