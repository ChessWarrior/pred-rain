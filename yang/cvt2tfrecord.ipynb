{
 "cells": [
  {
   "cell_type": "code",
   "execution_count": 1,
   "metadata": {},
   "outputs": [],
   "source": [
    "%matplotlib inline\n",
    "%reload_ext autoreload\n",
    "%autoreload 2"
   ]
  },
  {
   "cell_type": "code",
   "execution_count": 7,
   "metadata": {},
   "outputs": [],
   "source": [
    "from cvt2tfrecord import *"
   ]
  },
  {
   "cell_type": "code",
   "execution_count": 12,
   "metadata": {},
   "outputs": [],
   "source": [
    "cvter = Cvter('../data/tfrecords/train_1_contiguous_10', '../data/SRAD2018_TRAIN_001/')"
   ]
  },
  {
   "cell_type": "code",
   "execution_count": null,
   "metadata": {
    "scrolled": false
   },
   "outputs": [
    {
     "data": {
      "application/vnd.jupyter.widget-view+json": {
       "model_id": "128a08629ad0497e9e08367ea9a1ecb8",
       "version_major": 2,
       "version_minor": 0
      },
      "text/plain": [
       "HBox(children=(IntProgress(value=0, description='Processing subdirectory ../data/SRAD2018_TRAIN_001/', max=500…"
      ]
     },
     "metadata": {},
     "output_type": "display_data"
    }
   ],
   "source": [
    "cvter.convert_contiguous(10)"
   ]
  },
  {
   "cell_type": "code",
   "execution_count": null,
   "metadata": {},
   "outputs": [],
   "source": []
  },
  {
   "cell_type": "markdown",
   "metadata": {},
   "source": [
    "### skipping test"
   ]
  },
  {
   "cell_type": "code",
   "execution_count": 10,
   "metadata": {},
   "outputs": [],
   "source": [
    "import numpy as np"
   ]
  },
  {
   "cell_type": "code",
   "execution_count": 37,
   "metadata": {},
   "outputs": [
    {
     "data": {
      "text/plain": [
       "array(['0', '1', '2', '3', '4'], dtype='<U2')"
      ]
     },
     "execution_count": 37,
     "metadata": {},
     "output_type": "execute_result"
    }
   ],
   "source": [
    "bogus_fn = np.asarray([str(o) for o in range(61)]); bogus_fn[:5]"
   ]
  },
  {
   "cell_type": "code",
   "execution_count": 38,
   "metadata": {},
   "outputs": [],
   "source": [
    "stop , nt = 5, None"
   ]
  },
  {
   "cell_type": "code",
   "execution_count": 39,
   "metadata": {},
   "outputs": [],
   "source": [
    "if nt is None:\n",
    "    split_idx = [range(o, len(bogus_fn) - stop, stop) for o in range(stop)]"
   ]
  },
  {
   "cell_type": "code",
   "execution_count": 42,
   "metadata": {},
   "outputs": [
    {
     "data": {
      "text/plain": [
       "[array(['0', '5', '10', '15', '20', '25', '30', '35', '40', '45', '50', '55'], dtype='<U2'),\n",
       " array(['1', '6', '11', '16', '21', '26', '31', '36', '41', '46', '51'], dtype='<U2'),\n",
       " array(['2', '7', '12', '17', '22', '27', '32', '37', '42', '47', '52'], dtype='<U2'),\n",
       " array(['3', '8', '13', '18', '23', '28', '33', '38', '43', '48', '53'], dtype='<U2'),\n",
       " array(['4', '9', '14', '19', '24', '29', '34', '39', '44', '49', '54'], dtype='<U2')]"
      ]
     },
     "execution_count": 42,
     "metadata": {},
     "output_type": "execute_result"
    }
   ],
   "source": [
    "[bogus_fn[idx] for idx in split_idx]"
   ]
  },
  {
   "cell_type": "code",
   "execution_count": 29,
   "metadata": {},
   "outputs": [
    {
     "data": {
      "text/plain": [
       "[12, 11, 11, 11, 11]"
      ]
     },
     "execution_count": 29,
     "metadata": {},
     "output_type": "execute_result"
    }
   ],
   "source": [
    "[len(o) for o in split_idx]"
   ]
  },
  {
   "cell_type": "markdown",
   "metadata": {},
   "source": [
    "set nt"
   ]
  },
  {
   "cell_type": "code",
   "execution_count": 43,
   "metadata": {},
   "outputs": [],
   "source": [
    "nt = 10"
   ]
  },
  {
   "cell_type": "code",
   "execution_count": 44,
   "metadata": {},
   "outputs": [],
   "source": [
    "split_idx = [idx[o:o + nt] for idx in split_idx for o in range(0, len(idx) - nt, nt)]"
   ]
  },
  {
   "cell_type": "code",
   "execution_count": 45,
   "metadata": {},
   "outputs": [
    {
     "data": {
      "text/plain": [
       "[[0, 5, 10, 15, 20, 25, 30, 35, 40, 45],\n",
       " [1, 6, 11, 16, 21, 26, 31, 36, 41, 46],\n",
       " [2, 7, 12, 17, 22, 27, 32, 37, 42, 47],\n",
       " [3, 8, 13, 18, 23, 28, 33, 38, 43, 48],\n",
       " [4, 9, 14, 19, 24, 29, 34, 39, 44, 49]]"
      ]
     },
     "execution_count": 45,
     "metadata": {},
     "output_type": "execute_result"
    }
   ],
   "source": [
    "[list(o) for o in split_idx]"
   ]
  },
  {
   "cell_type": "code",
   "execution_count": 46,
   "metadata": {},
   "outputs": [
    {
     "data": {
      "text/plain": [
       "[10, 10, 10, 10, 10]"
      ]
     },
     "execution_count": 46,
     "metadata": {},
     "output_type": "execute_result"
    }
   ],
   "source": [
    "[len(o) for o in split_idx]"
   ]
  },
  {
   "cell_type": "code",
   "execution_count": 47,
   "metadata": {},
   "outputs": [
    {
     "data": {
      "text/plain": [
       "[array(['0', '5', '10', '15', '20', '25', '30', '35', '40', '45'], dtype='<U2'),\n",
       " array(['1', '6', '11', '16', '21', '26', '31', '36', '41', '46'], dtype='<U2'),\n",
       " array(['2', '7', '12', '17', '22', '27', '32', '37', '42', '47'], dtype='<U2'),\n",
       " array(['3', '8', '13', '18', '23', '28', '33', '38', '43', '48'], dtype='<U2'),\n",
       " array(['4', '9', '14', '19', '24', '29', '34', '39', '44', '49'], dtype='<U2')]"
      ]
     },
     "execution_count": 47,
     "metadata": {},
     "output_type": "execute_result"
    }
   ],
   "source": [
    "[bogus_fn[idx] for idx in split_idx]"
   ]
  },
  {
   "cell_type": "code",
   "execution_count": null,
   "metadata": {},
   "outputs": [],
   "source": []
  }
 ],
 "metadata": {
  "kernelspec": {
   "display_name": "Python 3",
   "language": "python",
   "name": "python3"
  },
  "language_info": {
   "codemirror_mode": {
    "name": "ipython",
    "version": 3
   },
   "file_extension": ".py",
   "mimetype": "text/x-python",
   "name": "python",
   "nbconvert_exporter": "python",
   "pygments_lexer": "ipython3",
   "version": "3.6.6"
  }
 },
 "nbformat": 4,
 "nbformat_minor": 2
}
