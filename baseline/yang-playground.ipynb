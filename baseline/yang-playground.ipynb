{
 "cells": [
  {
   "cell_type": "code",
   "execution_count": 1,
   "metadata": {},
   "outputs": [],
   "source": [
    "%reload_ext autoreload\n",
    "%autoreload 2\n",
    "%matplotlib inline"
   ]
  },
  {
   "cell_type": "code",
   "execution_count": 2,
   "metadata": {},
   "outputs": [],
   "source": [
    "import tensorflow as tf\n",
    "import tensorlayer as tl\n",
    "from tensorlayer.layers import *\n",
    "from models.baseline_model import ConvLSTM_Model\n",
    "from preprocess.data_reader import data_reader\n",
    "from preprocess.cvt2tfrecord import png_cvter\n",
    "\n",
    "from IPython.core.debugger import set_trace\n",
    "from pathlib import Path\n",
    "from tqdm import tqdm_notebook"
   ]
  },
  {
   "cell_type": "markdown",
   "metadata": {},
   "source": [
    "# tfrecord"
   ]
  },
  {
   "cell_type": "markdown",
   "metadata": {},
   "source": [
    "## Create tfrecord"
   ]
  },
  {
   "cell_type": "code",
   "execution_count": 46,
   "metadata": {},
   "outputs": [],
   "source": [
    "PATH = Path('../data')\n",
    "path_trn_1 = PATH/'SRAD2018_TRAIN_001'\n",
    "path_tfrecord = PATH/'train_001.tfrecords'"
   ]
  },
  {
   "cell_type": "code",
   "execution_count": 54,
   "metadata": {
    "scrolled": false
   },
   "outputs": [
    {
     "data": {
      "text/plain": [
       "['RAD_386582464212543_040.png',\n",
       " 'RAD_386582464212543_010.png',\n",
       " 'RAD_386582464212543_056.png',\n",
       " 'RAD_386582464212543_020.png',\n",
       " 'RAD_386582464212543_060.png',\n",
       " 'RAD_386582464212543_000.png',\n",
       " 'RAD_386582464212543_026.png',\n",
       " 'RAD_386582464212543_017.png',\n",
       " 'RAD_386582464212543_018.png',\n",
       " 'RAD_386582464212543_003.png',\n",
       " 'RAD_386582464212543_004.png',\n",
       " 'RAD_386582464212543_036.png',\n",
       " 'RAD_386582464212543_031.png',\n",
       " 'RAD_386582464212543_014.png',\n",
       " 'RAD_386582464212543_033.png',\n",
       " 'RAD_386582464212543_039.png',\n",
       " 'RAD_386582464212543_008.png',\n",
       " 'RAD_386582464212543_043.png',\n",
       " 'RAD_386582464212543_032.png',\n",
       " 'RAD_386582464212543_038.png',\n",
       " 'RAD_386582464212543_002.png',\n",
       " 'RAD_386582464212543_046.png',\n",
       " 'RAD_386582464212543_047.png',\n",
       " 'RAD_386582464212543_052.png',\n",
       " 'RAD_386582464212543_019.png',\n",
       " 'RAD_386582464212543_053.png',\n",
       " 'RAD_386582464212543_042.png',\n",
       " 'RAD_386582464212543_044.png',\n",
       " 'RAD_386582464212543_023.png',\n",
       " 'RAD_386582464212543_001.png',\n",
       " 'RAD_386582464212543_006.png',\n",
       " 'RAD_386582464212543_055.png',\n",
       " 'RAD_386582464212543_054.png',\n",
       " 'RAD_386582464212543_050.png',\n",
       " 'RAD_386582464212543_035.png',\n",
       " 'RAD_386582464212543_057.png',\n",
       " 'RAD_386582464212543_025.png',\n",
       " 'RAD_386582464212543_028.png',\n",
       " 'RAD_386582464212543_009.png',\n",
       " 'RAD_386582464212543_027.png',\n",
       " 'RAD_386582464212543_011.png',\n",
       " 'RAD_386582464212543_022.png',\n",
       " 'RAD_386582464212543_024.png',\n",
       " 'RAD_386582464212543_037.png',\n",
       " 'RAD_386582464212543_059.png',\n",
       " 'RAD_386582464212543_005.png',\n",
       " 'RAD_386582464212543_015.png',\n",
       " 'RAD_386582464212543_034.png',\n",
       " 'RAD_386582464212543_021.png',\n",
       " 'RAD_386582464212543_049.png',\n",
       " 'RAD_386582464212543_012.png',\n",
       " 'RAD_386582464212543_041.png',\n",
       " 'RAD_386582464212543_013.png',\n",
       " 'RAD_386582464212543_007.png',\n",
       " 'RAD_386582464212543_016.png',\n",
       " 'RAD_386582464212543_030.png',\n",
       " 'RAD_386582464212543_051.png',\n",
       " 'RAD_386582464212543_048.png',\n",
       " 'RAD_386582464212543_045.png',\n",
       " 'RAD_386582464212543_029.png',\n",
       " 'RAD_386582464212543_058.png']"
      ]
     },
     "execution_count": 54,
     "metadata": {},
     "output_type": "execute_result"
    }
   ],
   "source": [
    "import os\n",
    "os.listdir(str(path_trn_1/'RAD_386582464212543'))"
   ]
  },
  {
   "cell_type": "code",
   "execution_count": 47,
   "metadata": {},
   "outputs": [],
   "source": [
    "cvt = png_cvter(file_name=str(path_tfrecord), data_dir = str(path_trn_1), \n",
    "                hight=501, width=501)"
   ]
  },
  {
   "cell_type": "code",
   "execution_count": 49,
   "metadata": {},
   "outputs": [
    {
     "data": {
      "application/vnd.jupyter.widget-view+json": {
       "model_id": "",
       "version_major": 2,
       "version_minor": 0
      },
      "text/plain": [
       "HBox(children=(IntProgress(value=0, description='Processing subdirectory', max=5000), HTML(value='')))"
      ]
     },
     "metadata": {},
     "output_type": "display_data"
    },
    {
     "name": "stdout",
     "output_type": "stream",
     "text": [
      "\r"
     ]
    }
   ],
   "source": [
    "cvt.convert()"
   ]
  },
  {
   "cell_type": "markdown",
   "metadata": {},
   "source": [
    "## Decode tfrecord"
   ]
  },
  {
   "cell_type": "code",
   "execution_count": 12,
   "metadata": {},
   "outputs": [],
   "source": [
    "dataset = tf.data.TFRecordDataset(str(path_tfrecord))"
   ]
  },
  {
   "cell_type": "code",
   "execution_count": null,
   "metadata": {},
   "outputs": [],
   "source": [
    "# Reads an image from a file, decodes it into a dense tensor, and resizes it\n",
    "# to a fixed shape.\n",
    "def _parse_function(filename, label):\n",
    "  image_string = tf.read_file(filename)\n",
    "  image_decoded = tf.image.decode_jpeg(image_string)\n",
    "  image_resized = tf.image.resize_images(image_decoded, [28, 28])\n",
    "  return image_resized, label\n",
    "\n",
    "# A vector of filenames.\n",
    "filenames = tf.constant([\"/var/data/image1.jpg\", \"/var/data/image2.jpg\", ...])\n",
    "\n",
    "# `labels[i]` is the label for the image in `filenames[i].\n",
    "labels = tf.constant([0, 37, ...])\n",
    "\n",
    "dataset = tf.data.Dataset.from_tensor_slices((filenames, labels))\n",
    "dataset = dataset.map(_parse_function)"
   ]
  },
  {
   "cell_type": "code",
   "execution_count": 27,
   "metadata": {},
   "outputs": [],
   "source": [
    "def parser_train(record):\n",
    "    features = tf.parse_single_example(record, \n",
    "                features={\n",
    "                    'data_raw': tf.FixedLenFeature([], tf.string),\n",
    "                    'label_raw': tf.FixedLenFeature([], tf.string)\n",
    "                })\n",
    "    image = tf.image.decode_png(features['data_raw'], channels=1)\n",
    "    image = tf.reshape(image, [31, 501, 501, 1])\n",
    "    image = tf.cast(image, tf.float32)\n",
    "    \n",
    "    label = tf.image.decode_png(features['label_raw'], channels=1)\n",
    "    label = tf.reshape(label, [30, 501, 501, 1])\n",
    "    label = tf.cast(label, tf.float32)\n",
    "    return image, label"
   ]
  },
  {
   "cell_type": "code",
   "execution_count": 29,
   "metadata": {
    "scrolled": false
   },
   "outputs": [],
   "source": [
    "batch_size = 1\n",
    "\n",
    "filenames = tf.placeholder(tf.string, shape=[None])\n",
    "dataset = tf.data.TFRecordDataset(filenames)\n",
    "dataset = dataset.map(parser_train).repeat().batch(batch_size)\n",
    "    \n",
    "iterator = dataset.make_initializable_iterator()\n",
    "\n",
    "training_filenames = [str(path_tfrecord)]\n",
    "with tf.Session() as sess:\n",
    "    sess.run(iterator.initializer, feed_dict={filenames: training_filenames})\n",
    "    iterator"
   ]
  },
  {
   "cell_type": "code",
   "execution_count": 17,
   "metadata": {},
   "outputs": [
    {
     "data": {
      "text/plain": [
       "numpy.ndarray"
      ]
     },
     "execution_count": 17,
     "metadata": {},
     "output_type": "execute_result"
    }
   ],
   "source": [
    "with open('../data/SRAD2018_TRAIN_001/RAD_206482464219531/RAD_206482464219531_060.png', 'rb') as f:\n",
    "     png_bytes = f.read()\n",
    "bytes = tf.placeholder(tf.string)\n",
    "decode_png = tf.image.decode_image(bytes, channels=3)\n",
    "session = tf.Session()\n",
    "image = session.run(decode_png, feed_dict={bytes: png_bytes})\n",
    "type(image)"
   ]
  },
  {
   "cell_type": "code",
   "execution_count": null,
   "metadata": {},
   "outputs": [],
   "source": []
  }
 ],
 "metadata": {
  "kernelspec": {
   "display_name": "Python 3",
   "language": "python",
   "name": "python3"
  },
  "language_info": {
   "codemirror_mode": {
    "name": "ipython",
    "version": 3
   },
   "file_extension": ".py",
   "mimetype": "text/x-python",
   "name": "python",
   "nbconvert_exporter": "python",
   "pygments_lexer": "ipython3",
   "version": "3.6.6"
  }
 },
 "nbformat": 4,
 "nbformat_minor": 2
}
