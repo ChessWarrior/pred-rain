{
 "cells": [
  {
   "cell_type": "markdown",
   "metadata": {},
   "source": [
    "# Test cvt2tfrecords"
   ]
  },
  {
   "cell_type": "code",
   "execution_count": 1,
   "metadata": {},
   "outputs": [],
   "source": [
    "from cvt2tfrecord import cvter\n",
    "import tensorflow as tf"
   ]
  },
  {
   "cell_type": "code",
   "execution_count": 2,
   "metadata": {},
   "outputs": [
    {
     "name": "stdout",
     "output_type": "stream",
     "text": [
      "before:  5000\n",
      "after:  100\n"
     ]
    }
   ],
   "source": [
    "cvt = cvter('01.tfrecords', '../data/')"
   ]
  },
  {
   "cell_type": "code",
   "execution_count": 3,
   "metadata": {},
   "outputs": [
    {
     "data": {
      "application/vnd.jupyter.widget-view+json": {
       "model_id": "63841df82704427699fbcc99218b982a",
       "version_major": 2,
       "version_minor": 0
      },
      "text/plain": [
       "HBox(children=(IntProgress(value=0, max=80), HTML(value='')))"
      ]
     },
     "metadata": {},
     "output_type": "display_data"
    },
    {
     "name": "stdout",
     "output_type": "stream",
     "text": [
      "\n"
     ]
    },
    {
     "data": {
      "application/vnd.jupyter.widget-view+json": {
       "model_id": "6ebc066b58a347adb0e3a887d32ff793",
       "version_major": 2,
       "version_minor": 0
      },
      "text/plain": [
       "HBox(children=(IntProgress(value=0, max=20), HTML(value='')))"
      ]
     },
     "metadata": {},
     "output_type": "display_data"
    },
    {
     "name": "stdout",
     "output_type": "stream",
     "text": [
      "\n"
     ]
    }
   ],
   "source": [
    "cvt.convert()"
   ]
  },
  {
   "cell_type": "markdown",
   "metadata": {},
   "source": [
    "# Test data_reader"
   ]
  },
  {
   "cell_type": "code",
   "execution_count": 4,
   "metadata": {},
   "outputs": [],
   "source": [
    "from data_reader import data_reader\n",
    "import tensorflow as tf\n",
    "sess = tf.InteractiveSession()"
   ]
  },
  {
   "cell_type": "code",
   "execution_count": 5,
   "metadata": {},
   "outputs": [],
   "source": [
    "# the args is readin as command line options in main.py\n",
    "class temp:\n",
    "    def __init__(self):\n",
    "        self.train_records = 'train_01.tfrecords'\n",
    "        self.vali_records = 'vali_01.tfrecords'\n",
    "        self.train_val_split = 0.2\n",
    "        self.batch_size = 1\n",
    "        self.epochs = 2\n",
    "args = temp()\n",
    "dr = data_reader(args)\n",
    "X, y = dr.read_and_decode(sess, args.batch_size)"
   ]
  },
  {
   "cell_type": "code",
   "execution_count": 6,
   "metadata": {},
   "outputs": [
    {
     "data": {
      "text/plain": [
       "(<tf.Tensor 'IteratorGetNext:0' shape=(?, 31, 501, 501, 1) dtype=float32>,\n",
       " <tf.Tensor 'IteratorGetNext:1' shape=(?, 30, 501, 501, 1) dtype=float32>)"
      ]
     },
     "execution_count": 6,
     "metadata": {},
     "output_type": "execute_result"
    }
   ],
   "source": [
    "X, y"
   ]
  },
  {
   "cell_type": "code",
   "execution_count": 7,
   "metadata": {
    "scrolled": true
   },
   "outputs": [
    {
     "name": "stdout",
     "output_type": "stream",
     "text": [
      "train mode\n",
      "X_.shape : (1, 31, 501, 501, 1)\n",
      "y_.shape : (1, 30, 501, 501, 1)\n",
      "valid mode\n",
      "X_.shape : (1, 31, 501, 501, 1)\n",
      "y_.shape : (1, 30, 501, 501, 1)\n",
      "train mode\n",
      "X_.shape : (1, 31, 501, 501, 1)\n",
      "y_.shape : (1, 30, 501, 501, 1)\n",
      "valid mode\n",
      "X_.shape : (1, 31, 501, 501, 1)\n",
      "y_.shape : (1, 30, 501, 501, 1)\n"
     ]
    }
   ],
   "source": [
    "dr.train_n_steps = 1 #80 should be 80, 1 is for demo\n",
    "dr.val_n_steps = 1 #20 should be 20, 1 is for demo\n",
    "for i in range(2):\n",
    "    print('train mode')\n",
    "    fd = dr.set_mode('train')\n",
    "    for _ in range(dr.train_n_steps):\n",
    "        X_, y_ = sess.run([X, y], feed_dict=fd)\n",
    "        print('X_.shape :', X_.shape)\n",
    "        print('y_.shape :', y_.shape)\n",
    "    \n",
    "    print('valid mode')\n",
    "    fd = dr.set_mode('valid')\n",
    "    for _ in range(dr.val_n_steps):\n",
    "        X_, y_ = sess.run([X, y], feed_dict=fd)\n",
    "        print('X_.shape :', X_.shape)\n",
    "        print('y_.shape :', y_.shape)"
   ]
  },
  {
   "cell_type": "code",
   "execution_count": null,
   "metadata": {},
   "outputs": [],
   "source": []
  }
 ],
 "metadata": {
  "kernelspec": {
   "display_name": "Python 3",
   "language": "python",
   "name": "python3"
  },
  "language_info": {
   "codemirror_mode": {
    "name": "ipython",
    "version": 3
   },
   "file_extension": ".py",
   "mimetype": "text/x-python",
   "name": "python",
   "nbconvert_exporter": "python",
   "pygments_lexer": "ipython3",
   "version": "3.6.2"
  }
 },
 "nbformat": 4,
 "nbformat_minor": 2
}
