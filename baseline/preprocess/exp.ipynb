{
 "cells": [
  {
   "cell_type": "code",
   "execution_count": 1,
   "metadata": {
    "collapsed": true
   },
   "outputs": [],
   "source": [
    "import tensorflow as tf\n",
    "import numpy as np\n",
    "data_path = '01.tfrecords'\n",
    "\n",
    "sess = tf.InteractiveSession()\n",
    "\n",
    "def read_and_decode(file_name, batch_size):\n",
    "    def parser(record):\n",
    "        features = tf.parse_single_example(record,\n",
    "                                           features={'data_raw': tf.FixedLenFeature([], tf.string),\n",
    "                                                     'label_raw': tf.FixedLenFeature([], tf.string)})\n",
    "        image = tf.decode_raw(features['data_raw'], tf.uint8)\n",
    "        img = tf.reshape(image, [31, 501, 501, 1])\n",
    "        img = tf.cast(img, tf.float32)\n",
    "        label = tf.decode_raw(features['label_raw'], tf.uint8)\n",
    "        label = tf.reshape(label, [30, 501, 501, 1])\n",
    "        return img, label\n",
    "  \n",
    "    dataset = tf.data.TFRecordDataset(file_name)\n",
    "    \n",
    "    dataset = dataset.map(parser).repeat().batch(batch_size)\n",
    "    iterator = dataset.make_one_shot_iterator()\n",
    "    img_input, label = iterator.get_next()\n",
    "    return img_input, label\n",
    "\n",
    "img, lbl = read_and_decode([data_path], 10)\n",
    "img_, lbl_ = sess.run([img, lbl])\n",
    "img_.shape"
   ]
  }
 ],
 "metadata": {
  "anaconda-cloud": {},
  "kernelspec": {
   "display_name": "Python [default]",
   "language": "python",
   "name": "python3"
  },
  "language_info": {
   "codemirror_mode": {
    "name": "ipython",
    "version": 3
   },
   "file_extension": ".py",
   "mimetype": "text/x-python",
   "name": "python",
   "nbconvert_exporter": "python",
   "pygments_lexer": "ipython3",
   "version": "3.5.2"
  }
 },
 "nbformat": 4,
 "nbformat_minor": 1
}
