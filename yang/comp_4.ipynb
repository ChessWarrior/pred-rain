{
 "cells": [
  {
   "cell_type": "code",
   "execution_count": 1,
   "metadata": {},
   "outputs": [],
   "source": [
    "%matplotlib inline\n",
    "%reload_ext autoreload\n",
    "%autoreload 2"
   ]
  },
  {
   "cell_type": "markdown",
   "metadata": {},
   "source": [
    "### Data"
   ]
  },
  {
   "cell_type": "code",
   "execution_count": 2,
   "metadata": {},
   "outputs": [
    {
     "name": "stdout",
     "output_type": "stream",
     "text": [
      "Processing subdirectory: 100%|██████████████████████████████████████████████████████████████████████████████████████████████████████████████████████████████████████████████| 5000/5000 [00:44<00:00, 113.01it/s]\n",
      "Processing subdirectory: 100%|██████████████████████████████████████████████████████████████████████████████████████████████████████████████████████████████████████████████| 5000/5000 [00:28<00:00, 174.68it/s]\n",
      "2it [01:51, 55.51s/it]"
     ]
    }
   ],
   "source": [
    "%run preprocessing ../data/SRAD2018/ 1,2 ../data False contiguous --nt 10"
   ]
  },
  {
   "cell_type": "code",
   "execution_count": 3,
   "metadata": {},
   "outputs": [
    {
     "name": "stdout",
     "output_type": "stream",
     "text": [
      "Processing subdirectory: 100%|████████████████████████████████████████████████████████████████████████████████████████████████████████████████████████████████████████████| 10000/10000 [00:29<00:00, 340.18it/s]\n",
      "1it [00:29, 29.82s/it]"
     ]
    }
   ],
   "source": [
    "%run preprocessing ../data/SRAD2018/ 1 ../data True contiguous --nt 10"
   ]
  },
  {
   "cell_type": "code",
   "execution_count": 2,
   "metadata": {},
   "outputs": [],
   "source": [
    "from predrain import *\n",
    "sz = 256\n",
    "nt = 1\n",
    "bs = 6 # calculate this\n",
    "num_gpus = 1\n",
    "gpu_start = 3"
   ]
  },
  {
   "cell_type": "code",
   "execution_count": 3,
   "metadata": {},
   "outputs": [],
   "source": [
    "mt = ModelType.PredNetLeakyRelu\n",
    "pred_mode = 'contiguous'"
   ]
  },
  {
   "cell_type": "code",
   "execution_count": 4,
   "metadata": {},
   "outputs": [],
   "source": [
    "P = Predrain()\n",
    "P.set_config(sz, nt, bs, mt, num_gpus, gpu_start, pred_mode, allow_growth=False)"
   ]
  },
  {
   "cell_type": "code",
   "execution_count": 5,
   "metadata": {},
   "outputs": [
    {
     "data": {
      "text/plain": [
       "((<tf.Tensor 'IteratorGetNext:0' shape=(?, 10, 256, 256, 1) dtype=float32>,\n",
       "  <tf.Tensor 'zeros:0' shape=(6, 1) dtype=float32>),\n",
       " (<tf.Tensor 'IteratorGetNext_1:0' shape=(?, 10, 256, 256, 1) dtype=float32>,\n",
       "  <tf.Tensor 'zeros_1:0' shape=(6, 1) dtype=float32>),\n",
       " 54000,\n",
       " 6000)"
      ]
     },
     "execution_count": 5,
     "metadata": {},
     "output_type": "execute_result"
    }
   ],
   "source": [
    "P.get_data(pred_mode=pred_mode, idx=range(1, 1 + 2))"
   ]
  },
  {
   "cell_type": "code",
   "execution_count": 6,
   "metadata": {},
   "outputs": [
    {
     "data": {
      "text/plain": [
       "<tensorflow.python.keras.engine.training.Model at 0x7f66241a4dd8>"
      ]
     },
     "execution_count": 6,
     "metadata": {},
     "output_type": "execute_result"
    }
   ],
   "source": [
    "P.get_model(mt, stateful=False)"
   ]
  },
  {
   "cell_type": "code",
   "execution_count": 11,
   "metadata": {},
   "outputs": [],
   "source": [
    "# P.load(ModelType.PredNetOriginal, 128, pred_mode, 1)\n",
    "P.model.load_weights('../data/models/checkpoints/weights.PredNetOriginal_128.01.h5')"
   ]
  },
  {
   "cell_type": "markdown",
   "metadata": {},
   "source": [
    "sz=256 transfered from sz=128"
   ]
  },
  {
   "cell_type": "code",
   "execution_count": null,
   "metadata": {},
   "outputs": [
    {
     "name": "stdout",
     "output_type": "stream",
     "text": [
      "Epoch 1/2\n",
      " 6665/18000 [==========>...................] - ETA: 6:08:34 - loss: 0.0232"
     ]
    }
   ],
   "source": [
    "P.train(2)"
   ]
  },
  {
   "cell_type": "code",
   "execution_count": null,
   "metadata": {},
   "outputs": [],
   "source": []
  },
  {
   "cell_type": "code",
   "execution_count": 51,
   "metadata": {},
   "outputs": [
    {
     "data": {
      "image/png": "[encoded data removed]",
      "text/plain": [
       "<Figure size 432x288 with 1 Axes>"
      ]
     },
     "metadata": {},
     "output_type": "display_data"
    }
   ],
   "source": [
    "LRFinder.plot_schedule_from_file('../data/models/lrs/PredNetOriginal_256/', 50)"
   ]
  },
  {
   "cell_type": "code",
   "execution_count": 46,
   "metadata": {},
   "outputs": [
    {
     "data": {
      "text/plain": [
       "PosixPath('../data/models/lrs/PredNetLeakyRelu_256')"
      ]
     },
     "execution_count": 46,
     "metadata": {},
     "output_type": "execute_result"
    }
   ],
   "source": [
    "P.path_lrs"
   ]
  },
  {
   "cell_type": "markdown",
   "metadata": {},
   "source": [
    "find lr on leaky prednet"
   ]
  },
  {
   "cell_type": "code",
   "execution_count": 36,
   "metadata": {},
   "outputs": [],
   "source": [
    "mt = ModelType.PredNetLeakyRelu"
   ]
  },
  {
   "cell_type": "code",
   "execution_count": 37,
   "metadata": {},
   "outputs": [],
   "source": [
    "P = Predrain()\n",
    "P.set_config(sz, nt, bs, mt, num_gpus, gpu_start, allow_growth=False)"
   ]
  },
  {
   "cell_type": "code",
   "execution_count": 38,
   "metadata": {},
   "outputs": [
    {
     "name": "stderr",
     "output_type": "stream",
     "text": [
      "/usr/local/anaconda3/envs/pred-rain/lib/python3.6/site-packages/tensorflow/python/util/tf_inspect.py:75: DeprecationWarning: inspect.getargspec() is deprecated, use inspect.signature() or inspect.getfullargspec()\n",
      "  return _inspect.getargspec(target)\n"
     ]
    },
    {
     "data": {
      "text/plain": [
       "((<tf.Tensor 'IteratorGetNext_8:0' shape=(?, 10, 256, 256, 1) dtype=float32>,\n",
       "  <tf.Tensor 'zeros_8:0' shape=(6, 1) dtype=float32>),\n",
       " (<tf.Tensor 'IteratorGetNext_9:0' shape=(?, 10, 256, 256, 1) dtype=float32>,\n",
       "  <tf.Tensor 'zeros_9:0' shape=(6, 1) dtype=float32>),\n",
       " 22500,\n",
       " 2500)"
      ]
     },
     "execution_count": 38,
     "metadata": {},
     "output_type": "execute_result"
    }
   ],
   "source": [
    "P.get_data(pred_mode='skip')"
   ]
  },
  {
   "cell_type": "code",
   "execution_count": 39,
   "metadata": {},
   "outputs": [
    {
     "data": {
      "text/plain": [
       "<tensorflow.python.keras.engine.training.Model at 0x7fadacaa1e10>"
      ]
     },
     "execution_count": 39,
     "metadata": {},
     "output_type": "execute_result"
    }
   ],
   "source": [
    "P.get_model(mt)"
   ]
  },
  {
   "cell_type": "code",
   "execution_count": 45,
   "metadata": {},
   "outputs": [
    {
     "data": {
      "image/png": "[encoded data removed]",
      "text/plain": [
       "<Figure size 432x288 with 1 Axes>"
      ]
     },
     "metadata": {},
     "output_type": "display_data"
    }
   ],
   "source": [
    "lrfinder.plot_schedule(50)"
   ]
  },
  {
   "cell_type": "code",
   "execution_count": null,
   "metadata": {},
   "outputs": [],
   "source": [
    "P.load(ModelType.PredNetO)"
   ]
  },
  {
   "cell_type": "code",
   "execution_count": null,
   "metadata": {},
   "outputs": [],
   "source": []
  },
  {
   "cell_type": "markdown",
   "metadata": {},
   "source": [
    "upsample"
   ]
  },
  {
   "cell_type": "code",
   "execution_count": 55,
   "metadata": {},
   "outputs": [],
   "source": [
    "sz = 256\n",
    "bs = 6"
   ]
  },
  {
   "cell_type": "code",
   "execution_count": 60,
   "metadata": {},
   "outputs": [
    {
     "name": "stderr",
     "output_type": "stream",
     "text": [
      "/usr/local/anaconda3/envs/pred-rain/lib/python3.6/site-packages/tensorflow/python/util/tf_inspect.py:75: DeprecationWarning: inspect.getargspec() is deprecated, use inspect.signature() or inspect.getfullargspec()\n",
      "  return _inspect.getargspec(target)\n"
     ]
    },
    {
     "data": {
      "text/plain": [
       "<tensorflow.python.keras.engine.training.Model at 0x7fad5c96bef0>"
      ]
     },
     "execution_count": 60,
     "metadata": {},
     "output_type": "execute_result"
    }
   ],
   "source": [
    "P = Predrain()\n",
    "P.set_config(sz, nt, bs, mt, num_gpus, gpu_start, allow_growth=False, comment='from_128')\n",
    "P.get_data(pred_mode='skip')\n",
    "P.get_model(mt)"
   ]
  },
  {
   "cell_type": "code",
   "execution_count": 61,
   "metadata": {},
   "outputs": [],
   "source": [
    "P.load(ModelType.PredNetOriginal, 128, 1)"
   ]
  },
  {
   "cell_type": "code",
   "execution_count": null,
   "metadata": {},
   "outputs": [
    {
     "name": "stdout",
     "output_type": "stream",
     "text": [
      "Epoch 1/4\n",
      " 1210/15000 [=>............................] - ETA: 7:47:39 - loss: 0.0445"
     ]
    }
   ],
   "source": [
    "P.train(4, 1e-1)"
   ]
  },
  {
   "cell_type": "markdown",
   "metadata": {},
   "source": [
    "nt = 5"
   ]
  },
  {
   "cell_type": "code",
   "execution_count": 3,
   "metadata": {},
   "outputs": [],
   "source": [
    "%matplotlib inline\n",
    "%reload_ext autoreload\n",
    "%autoreload 2"
   ]
  },
  {
   "cell_type": "code",
   "execution_count": 4,
   "metadata": {},
   "outputs": [],
   "source": [
    "from predrain import *\n",
    "sz = 256\n",
    "nt = 1\n",
    "bs = 6\n",
    "num_gpus = 1\n",
    "gpu_start = 0\n",
    "comment='nt5_from_scratch'"
   ]
  },
  {
   "cell_type": "code",
   "execution_count": 5,
   "metadata": {},
   "outputs": [],
   "source": [
    "mt = ModelType.PredNetLeakyRelu\n",
    "pred_mode = PredMode.Skip1"
   ]
  },
  {
   "cell_type": "code",
   "execution_count": 4,
   "metadata": {},
   "outputs": [],
   "source": [
    "P = Predrain()\n",
    "P.set_config(sz, nt, bs, mt, num_gpus, gpu_start, pred_mode, allow_growth=False, comment=comment)"
   ]
  },
  {
   "cell_type": "code",
   "execution_count": 5,
   "metadata": {},
   "outputs": [
    {
     "data": {
      "text/plain": [
       "((<tf.Tensor 'IteratorGetNext:0' shape=(?, 5, 256, 256, 1) dtype=float32>,\n",
       "  <tf.Tensor 'zeros:0' shape=(6, 1) dtype=float32>),\n",
       " (<tf.Tensor 'IteratorGetNext_1:0' shape=(?, 5, 256, 256, 1) dtype=float32>,\n",
       "  <tf.Tensor 'zeros_1:0' shape=(6, 1) dtype=float32>),\n",
       " 112500,\n",
       " 12500)"
      ]
     },
     "execution_count": 5,
     "metadata": {},
     "output_type": "execute_result"
    }
   ],
   "source": [
    "P.get_data(idx=range(1, 1 + 5))"
   ]
  },
  {
   "cell_type": "code",
   "execution_count": 6,
   "metadata": {},
   "outputs": [
    {
     "data": {
      "text/plain": [
       "<tensorflow.python.keras.engine.training.Model at 0x7f46e441a748>"
      ]
     },
     "execution_count": 6,
     "metadata": {},
     "output_type": "execute_result"
    }
   ],
   "source": [
    "P.get_model(mt, output_mode='error', stateful=False)"
   ]
  },
  {
   "cell_type": "code",
   "execution_count": 7,
   "metadata": {},
   "outputs": [
    {
     "name": "stdout",
     "output_type": "stream",
     "text": [
      "loaded ../data/models/checkpoints/weights.PredNetLeakyRelu_256_skip_nt5_from_scratch.02.h5\n"
     ]
    }
   ],
   "source": [
    "P.load(mt, 256, idx=2, comment='nt5_from_scratch')"
   ]
  },
  {
   "cell_type": "code",
   "execution_count": null,
   "metadata": {},
   "outputs": [
    {
     "name": "stdout",
     "output_type": "stream",
     "text": [
      "Epoch 1/3\n",
      " 3242/56250 [>.............................] - ETA: 11:14:05 - loss: 0.0428"
     ]
    }
   ],
   "source": [
    "P.train(epochs=3, max_lr=1e-3)"
   ]
  },
  {
   "cell_type": "code",
   "execution_count": 16,
   "metadata": {},
   "outputs": [
    {
     "name": "stderr",
     "output_type": "stream",
     "text": [
      "[autoreload of models.model_factory failed: Traceback (most recent call last):\n",
      "  File \"/usr/local/anaconda3/envs/pred-rain/lib/python3.6/site-packages/IPython/extensions/autoreload.py\", line 245, in check\n",
      "    superreload(m, reload, self.old_objects)\n",
      "  File \"/usr/local/anaconda3/envs/pred-rain/lib/python3.6/site-packages/IPython/extensions/autoreload.py\", line 368, in superreload\n",
      "    module = reload(module)\n",
      "  File \"/usr/local/anaconda3/envs/pred-rain/lib/python3.6/imp.py\", line 315, in reload\n",
      "    return importlib.reload(module)\n",
      "  File \"/usr/local/anaconda3/envs/pred-rain/lib/python3.6/importlib/__init__.py\", line 166, in reload\n",
      "    _bootstrap._exec(spec, module)\n",
      "  File \"<frozen importlib._bootstrap>\", line 618, in _exec\n",
      "  File \"<frozen importlib._bootstrap_external>\", line 678, in exec_module\n",
      "  File \"<frozen importlib._bootstrap>\", line 219, in _call_with_frames_removed\n",
      "  File \"/home/zyc/jupyter/tianchi/pred-rain/yang/models/model_factory.py\", line 3, in <module>\n",
      "    from .darkprednet import *\n",
      "  File \"/home/zyc/jupyter/tianchi/pred-rain/yang/models/darkprednet.py\", line 5, in <module>\n",
      "    class DarkPredNetCellV1(Layer):\n",
      "NameError: name 'Layer' is not defined\n",
      "]\n"
     ]
    }
   ],
   "source": [
    "P.model.save_weights('2.2.1.h5')"
   ]
  },
  {
   "cell_type": "code",
   "execution_count": 7,
   "metadata": {},
   "outputs": [],
   "source": [
    "P.model.load_weights('2.2.1.h5')"
   ]
  },
  {
   "cell_type": "code",
   "execution_count": null,
   "metadata": {},
   "outputs": [
    {
     "name": "stdout",
     "output_type": "stream",
     "text": [
      "Epoch 2/2\n",
      "  708/37500 [..............................] - ETA: 8:13:16 - loss: 0.0432"
     ]
    }
   ],
   "source": [
    "P.fit(2, 1e-3, initial_epoch=1)"
   ]
  },
  {
   "cell_type": "code",
   "execution_count": 1,
   "metadata": {},
   "outputs": [
    {
     "ename": "NameError",
     "evalue": "name 'P' is not defined",
     "output_type": "error",
     "traceback": [
      "\u001b[0;31m---------------------------------------------------------------------------\u001b[0m",
      "\u001b[0;31mNameError\u001b[0m                                 Traceback (most recent call last)",
      "\u001b[0;32m<ipython-input-1-ad14ead5886f>\u001b[0m in \u001b[0;36m<module>\u001b[0;34m()\u001b[0m\n\u001b[0;32m----> 1\u001b[0;31m \u001b[0mP\u001b[0m\u001b[0;34m.\u001b[0m\u001b[0mmodel\u001b[0m\u001b[0;34m.\u001b[0m\u001b[0msave_weights\u001b[0m\u001b[0;34m(\u001b[0m\u001b[0;34m'prednet_final.h5'\u001b[0m\u001b[0;34m)\u001b[0m\u001b[0;34m\u001b[0m\u001b[0m\n\u001b[0m",
      "\u001b[0;31mNameError\u001b[0m: name 'P' is not defined"
     ]
    }
   ],
   "source": [
    "P.model.save_weights('prednet_final.h5')"
   ]
  },
  {
   "cell_type": "code",
   "execution_count": null,
   "metadata": {},
   "outputs": [],
   "source": []
  }
 ],
 "metadata": {
  "kernelspec": {
   "display_name": "Python 3",
   "language": "python",
   "name": "python3"
  },
  "language_info": {
   "codemirror_mode": {
    "name": "ipython",
    "version": 3
   },
   "file_extension": ".py",
   "mimetype": "text/x-python",
   "name": "python",
   "nbconvert_exporter": "python",
   "pygments_lexer": "ipython3",
   "version": "3.6.6"
  }
 },
 "nbformat": 4,
 "nbformat_minor": 2
}
