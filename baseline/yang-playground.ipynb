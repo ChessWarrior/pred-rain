{
 "cells": [
  {
   "cell_type": "code",
   "execution_count": 1,
   "metadata": {},
   "outputs": [],
   "source": [
    "%reload_ext autoreload\n",
    "%autoreload 2\n",
    "%matplotlib inline"
   ]
  },
  {
   "cell_type": "code",
   "execution_count": 57,
   "metadata": {},
   "outputs": [],
   "source": [
    "import tensorflow as tf\n",
    "import tensorlayer as tl\n",
    "from tensorlayer.layers import *\n",
    "from models.baseline_model import ConvLSTM_Model\n",
    "# from preprocess.data_reader import data_reader\n",
    "from preprocess.cvt2tfrecord import png_cvter\n",
    "\n",
    "from IPython.core.debugger import set_trace\n",
    "from pathlib import Path\n",
    "from tqdm import tqdm_notebook\n",
    "from functools import partial\n",
    "from matplotlib import pyplot as plt"
   ]
  },
  {
   "cell_type": "markdown",
   "metadata": {},
   "source": [
    "# tfrecord"
   ]
  },
  {
   "cell_type": "code",
   "execution_count": 3,
   "metadata": {},
   "outputs": [],
   "source": [
    "PATH = Path('../data')\n",
    "path_trn_1 = PATH/'SRAD2018_TRAIN_001'\n",
    "path_tfrecord = PATH/'train_001.tfrecords'"
   ]
  },
  {
   "cell_type": "markdown",
   "metadata": {},
   "source": [
    "## Create tfrecord"
   ]
  },
  {
   "cell_type": "code",
   "execution_count": 4,
   "metadata": {},
   "outputs": [
    {
     "data": {
      "application/vnd.jupyter.widget-view+json": {
       "model_id": "",
       "version_major": 2,
       "version_minor": 0
      },
      "text/plain": [
       "HBox(children=(IntProgress(value=0, description='Processing subdirectory', max=5000), HTML(value='')))"
      ]
     },
     "metadata": {},
     "output_type": "display_data"
    },
    {
     "name": "stdout",
     "output_type": "stream",
     "text": [
      "\r",
      "CPU times: user 12 s, sys: 8.05 s, total: 20.1 s\n",
      "Wall time: 22.2 s\n"
     ]
    }
   ],
   "source": [
    "%%time\n",
    "cvt = png_cvter(file_name=str(path_tfrecord), data_dir = str(path_trn_1))\n",
    "cvt.convert_sequence()"
   ]
  },
  {
   "cell_type": "markdown",
   "metadata": {},
   "source": [
    "## Decode tfrecord"
   ]
  },
  {
   "cell_type": "code",
   "execution_count": 4,
   "metadata": {},
   "outputs": [],
   "source": [
    "sess = tf.InteractiveSession()"
   ]
  },
  {
   "cell_type": "code",
   "execution_count": 46,
   "metadata": {},
   "outputs": [],
   "source": [
    "def parser_train(serialized_example):\n",
    "    features = {\n",
    "        'data_raw': tf.FixedLenFeature([], tf.string),\n",
    "        'label_raw': tf.FixedLenFeature([], tf.string)\n",
    "    }\n",
    "    features, sequence_features = tf.parse_single_sequence_example(\n",
    "        serialized_example, context_features={\n",
    "            'time_stamp': tf.FixedLenFeature([], tf.string),\n",
    "        }, sequence_features={\n",
    "            \"data_raw\": tf.FixedLenSequenceFeature([], dtype=tf.string),\n",
    "            \"label_raw\": tf.FixedLenSequenceFeature([], dtype=tf.string),\n",
    "        })\n",
    "    cast_to_float32 = partial(tf.cast, dtype=tf.float32)\n",
    "    \n",
    "    x = tf.map_fn(tf.image.decode_png, sequence_features['data_raw'], dtype=tf.uint8,\n",
    "                  back_prop=False, swap_memory=False, infer_shape=False)\n",
    "    x = tf.map_fn(cast_to_float32, x, dtype=tf.float32,\n",
    "                  back_prop=False, swap_memory=False, infer_shape=False)\n",
    "    x = tf.squeeze(x)\n",
    "    \n",
    "    y = tf.map_fn(tf.image.decode_png, sequence_features['label_raw'], dtype=tf.uint8,\n",
    "                  back_prop=False, swap_memory=False, infer_shape=False))\n",
    "    y = tf.map_fn(cast_to_float32, y, dtype=tf.float32,\n",
    "                  back_prop=False, swap_memory=False, infer_shape=False))\n",
    "    y = tf.squeeze(y)\n",
    "    \n",
    "    return x, y, features['time_stamp']"
   ]
  },
  {
   "cell_type": "code",
   "execution_count": 47,
   "metadata": {
    "scrolled": false
   },
   "outputs": [],
   "source": [
    "batch_size = 2\n",
    "\n",
    "filenames = tf.placeholder(tf.string)\n",
    "# filenames = tf.constant(str(path_tfrecord), dtype=tf.string)\n",
    "dataset = tf.data.TFRecordDataset(filenames)\n",
    "dataset = dataset.map(parser_train).repeat()\n",
    "iterator = dataset.make_initializable_iterator()"
   ]
  },
  {
   "cell_type": "code",
   "execution_count": 48,
   "metadata": {
    "scrolled": false
   },
   "outputs": [],
   "source": [
    "training_filenames = [str(path_tfrecord)]\n",
    "sess.run(iterator.initializer, feed_dict={filenames: training_filenames})\n",
    "x, y, time_stamp = iterator.get_next()"
   ]
  },
  {
   "cell_type": "code",
   "execution_count": 62,
   "metadata": {},
   "outputs": [
    {
     "data": {
      "text/plain": [
       "<matplotlib.image.AxesImage at 0x7fd02412f390>"
      ]
     },
     "execution_count": 62,
     "metadata": {},
     "output_type": "execute_result"
    },
    {
     "data": {
      "image/png": "[encoded data removed]",
      "text/plain": [
       "<Figure size 432x288 with 1 Axes>"
      ]
     },
     "metadata": {},
     "output_type": "display_data"
    }
   ],
   "source": [
    "plt.imshow(x.eval()[28] / 255)"
   ]
  },
  {
   "cell_type": "code",
   "execution_count": null,
   "metadata": {},
   "outputs": [],
   "source": []
  },
  {
   "cell_type": "code",
   "execution_count": null,
   "metadata": {},
   "outputs": [],
   "source": []
  },
  {
   "cell_type": "code",
   "execution_count": null,
   "metadata": {},
   "outputs": [],
   "source": []
  }
 ],
 "metadata": {
  "kernelspec": {
   "display_name": "Python 3",
   "language": "python",
   "name": "python3"
  },
  "language_info": {
   "codemirror_mode": {
    "name": "ipython",
    "version": 3
   },
   "file_extension": ".py",
   "mimetype": "text/x-python",
   "name": "python",
   "nbconvert_exporter": "python",
   "pygments_lexer": "ipython3",
   "version": "3.6.6"
  }
 },
 "nbformat": 4,
 "nbformat_minor": 2
}
