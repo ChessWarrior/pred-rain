{
 "cells": [
  {
   "cell_type": "code",
   "execution_count": 1,
   "metadata": {},
   "outputs": [],
   "source": [
    "%matplotlib inline\n",
    "%reload_ext autoreload\n",
    "%autoreload 2"
   ]
  },
  {
   "cell_type": "markdown",
   "metadata": {},
   "source": [
    "### Data"
   ]
  },
  {
   "cell_type": "code",
   "execution_count": 2,
   "metadata": {},
   "outputs": [
    {
     "name": "stdout",
     "output_type": "stream",
     "text": [
      "Processing subdirectory: 100%|██████████████████████████████████████████████████████████████████████████████████████████████████████████████████████████████████████████████| 5000/5000 [00:44<00:00, 113.01it/s]\n",
      "Processing subdirectory: 100%|██████████████████████████████████████████████████████████████████████████████████████████████████████████████████████████████████████████████| 5000/5000 [00:28<00:00, 174.68it/s]\n",
      "2it [01:51, 55.51s/it]"
     ]
    }
   ],
   "source": [
    "%run preprocessing ../data/SRAD2018/ 1,2 ../data False contiguous --nt 10"
   ]
  },
  {
   "cell_type": "code",
   "execution_count": 3,
   "metadata": {},
   "outputs": [
    {
     "name": "stdout",
     "output_type": "stream",
     "text": [
      "Processing subdirectory: 100%|████████████████████████████████████████████████████████████████████████████████████████████████████████████████████████████████████████████| 10000/10000 [00:29<00:00, 340.18it/s]\n",
      "1it [00:29, 29.82s/it]"
     ]
    }
   ],
   "source": [
    "%run preprocessing ../data/SRAD2018/ 1 ../data True contiguous --nt 10"
   ]
  },
  {
   "cell_type": "code",
   "execution_count": 2,
   "metadata": {},
   "outputs": [],
   "source": [
    "from predrain import *\n",
    "sz = 256\n",
    "nt = 10\n",
    "bs = 6 # calculate this\n",
    "num_gpus = 1\n",
    "gpu_start = 3"
   ]
  },
  {
   "cell_type": "code",
   "execution_count": 3,
   "metadata": {},
   "outputs": [],
   "source": [
    "mt = ModelType.PredNetLeakyRelu\n",
    "pred_mode = 'contiguous'"
   ]
  },
  {
   "cell_type": "code",
   "execution_count": 4,
   "metadata": {},
   "outputs": [],
   "source": [
    "P = Predrain()\n",
    "P.set_config(sz, nt, bs, mt, num_gpus, gpu_start, pred_mode, allow_growth=False)"
   ]
  },
  {
   "cell_type": "code",
   "execution_count": 5,
   "metadata": {},
   "outputs": [
    {
     "data": {
      "text/plain": [
       "((<tf.Tensor 'IteratorGetNext:0' shape=(?, 10, 256, 256, 1) dtype=float32>,\n",
       "  <tf.Tensor 'zeros:0' shape=(6, 1) dtype=float32>),\n",
       " (<tf.Tensor 'IteratorGetNext_1:0' shape=(?, 10, 256, 256, 1) dtype=float32>,\n",
       "  <tf.Tensor 'zeros_1:0' shape=(6, 1) dtype=float32>),\n",
       " 54000,\n",
       " 6000)"
      ]
     },
     "execution_count": 5,
     "metadata": {},
     "output_type": "execute_result"
    }
   ],
   "source": [
    "P.get_data(pred_mode=pred_mode, idx=range(1, 1 + 2))"
   ]
  },
  {
   "cell_type": "code",
   "execution_count": 6,
   "metadata": {},
   "outputs": [
    {
     "data": {
      "text/plain": [
       "<tensorflow.python.keras.engine.training.Model at 0x7f66241a4dd8>"
      ]
     },
     "execution_count": 6,
     "metadata": {},
     "output_type": "execute_result"
    }
   ],
   "source": [
    "P.get_model(mt)"
   ]
  },
  {
   "cell_type": "code",
   "execution_count": 11,
   "metadata": {},
   "outputs": [],
   "source": [
    "# P.load(ModelType.PredNetOriginal, 128, pred_mode, 1)\n",
    "P.model.load_weights('../data/models/checkpoints/weights.PredNetOriginal_128.01.h5')"
   ]
  },
  {
   "cell_type": "markdown",
   "metadata": {},
   "source": [
    "sz=256 transfered from sz=128"
   ]
  },
  {
   "cell_type": "code",
   "execution_count": null,
   "metadata": {},
   "outputs": [
    {
     "name": "stdout",
     "output_type": "stream",
     "text": [
      "Epoch 1/2\n",
      " 6665/18000 [==========>...................] - ETA: 6:08:34 - loss: 0.0232"
     ]
    }
   ],
   "source": [
    "P.train(2)"
   ]
  },
  {
   "cell_type": "code",
   "execution_count": null,
   "metadata": {},
   "outputs": [],
   "source": []
  },
  {
   "cell_type": "code",
   "execution_count": 15,
   "metadata": {},
   "outputs": [
    {
     "name": "stdout",
     "output_type": "stream",
     "text": [
      "Epoch 1/1\n",
      " - LRFinder: lr = 0.00001077 \n",
      "  1/187 [..............................] - ETA: 35:31 - loss: 0.4297 - LRFinder: lr = 0.00001160 \n",
      "  2/187 [..............................] - ETA: 20:38 - loss: 0.4297 - LRFinder: lr = 0.00001250 \n",
      "  3/187 [..............................] - ETA: 15:37 - loss: 0.4261 - LRFinder: lr = 0.00001346 \n",
      "  4/187 [..............................] - ETA: 13:05 - loss: 0.4257 - LRFinder: lr = 0.00001450 \n",
      "  5/187 [..............................] - ETA: 11:35 - loss: 0.4227 - LRFinder: lr = 0.00001562 \n",
      "  6/187 [..............................] - ETA: 10:35 - loss: 0.4178 - LRFinder: lr = 0.00001682 \n",
      "  7/187 [>.............................] - ETA: 9:50 - loss: 0.4131  - LRFinder: lr = 0.00001812 \n",
      "  8/187 [>.............................] - ETA: 9:16 - loss: 0.4096 - LRFinder: lr = 0.00001951 \n",
      "  9/187 [>.............................] - ETA: 8:50 - loss: 0.4054 - LRFinder: lr = 0.00002102 \n",
      " 10/187 [>.............................] - ETA: 8:28 - loss: 0.3985 - LRFinder: lr = 0.00002264 \n",
      " 11/187 [>.............................] - ETA: 8:10 - loss: 0.3938 - LRFinder: lr = 0.00002438 \n",
      " 12/187 [>.............................] - ETA: 7:54 - loss: 0.3887 - LRFinder: lr = 0.00002626 \n",
      " 13/187 [=>............................] - ETA: 7:40 - loss: 0.3833 - LRFinder: lr = 0.00002829 \n",
      " 14/187 [=>............................] - ETA: 7:29 - loss: 0.3805 - LRFinder: lr = 0.00003047 \n",
      " 15/187 [=>............................] - ETA: 7:18 - loss: 0.3781 - LRFinder: lr = 0.00003282 \n",
      " 16/187 [=>............................] - ETA: 7:09 - loss: 0.3777 - LRFinder: lr = 0.00003535 \n",
      " 17/187 [=>............................] - ETA: 7:01 - loss: 0.3780 - LRFinder: lr = 0.00003808 \n",
      " 18/187 [=>............................] - ETA: 6:53 - loss: 0.3794 - LRFinder: lr = 0.00004101 \n",
      " 19/187 [==>...........................] - ETA: 6:46 - loss: 0.3803 - LRFinder: lr = 0.00004417 \n",
      " 20/187 [==>...........................] - ETA: 6:39 - loss: 0.3804 - LRFinder: lr = 0.00004758 \n",
      " 21/187 [==>...........................] - ETA: 6:33 - loss: 0.3825 - LRFinder: lr = 0.00005125 \n",
      " 22/187 [==>...........................] - ETA: 6:27 - loss: 0.3842 - LRFinder: lr = 0.00005520 \n",
      " 23/187 [==>...........................] - ETA: 6:21 - loss: 0.3862 - LRFinder: lr = 0.00005946 \n",
      " 24/187 [==>...........................] - ETA: 6:17 - loss: 0.3876 - LRFinder: lr = 0.00006404 \n",
      " 25/187 [===>..........................] - ETA: 6:12 - loss: 0.3889 - LRFinder: lr = 0.00006898 \n",
      " 26/187 [===>..........................] - ETA: 6:07 - loss: 0.3893 - LRFinder: lr = 0.00007430 \n",
      " 27/187 [===>..........................] - ETA: 6:03 - loss: 0.3884 - LRFinder: lr = 0.00008003 \n",
      " 28/187 [===>..........................] - ETA: 5:59 - loss: 0.3884 - LRFinder: lr = 0.00008620 \n",
      " 29/187 [===>..........................] - ETA: 5:54 - loss: 0.3866 - LRFinder: lr = 0.00009284 \n",
      " 30/187 [===>..........................] - ETA: 5:50 - loss: 0.3844 - LRFinder: lr = 0.00010000 \n",
      " 31/187 [===>..........................] - ETA: 5:46 - loss: 0.3838 - LRFinder: lr = 0.00010771 \n",
      " 32/187 [====>.........................] - ETA: 5:43 - loss: 0.3818 - LRFinder: lr = 0.00011602 \n",
      " 33/187 [====>.........................] - ETA: 5:39 - loss: 0.3806 - LRFinder: lr = 0.00012496 \n",
      " 34/187 [====>.........................] - ETA: 5:36 - loss: 0.3794 - LRFinder: lr = 0.00013460 \n",
      " 35/187 [====>.........................] - ETA: 5:32 - loss: 0.3795 - LRFinder: lr = 0.00014497 \n",
      " 36/187 [====>.........................] - ETA: 5:30 - loss: 0.3797 - LRFinder: lr = 0.00015615 \n",
      " 37/187 [====>.........................] - ETA: 5:26 - loss: 0.3801 - LRFinder: lr = 0.00016819 \n",
      " 38/187 [=====>........................] - ETA: 5:23 - loss: 0.3802 - LRFinder: lr = 0.00018116 \n",
      " 39/187 [=====>........................] - ETA: 5:20 - loss: 0.3804 - LRFinder: lr = 0.00019513 \n",
      " 40/187 [=====>........................] - ETA: 5:18 - loss: 0.3808 - LRFinder: lr = 0.00021017 \n",
      " 41/187 [=====>........................] - ETA: 5:14 - loss: 0.3815 - LRFinder: lr = 0.00022638 \n",
      " 42/187 [=====>........................] - ETA: 5:11 - loss: 0.3825 - LRFinder: lr = 0.00024384 \n",
      " 43/187 [=====>........................] - ETA: 5:09 - loss: 0.3835 - LRFinder: lr = 0.00026264 \n",
      " 44/187 [======>.......................] - ETA: 5:06 - loss: 0.3842 - LRFinder: lr = 0.00028289 \n",
      " 45/187 [======>.......................] - ETA: 5:03 - loss: 0.3851 - LRFinder: lr = 0.00030470 \n",
      " 46/187 [======>.......................] - ETA: 5:00 - loss: 0.3856 - LRFinder: lr = 0.00032819 \n",
      " 47/187 [======>.......................] - ETA: 4:57 - loss: 0.3857 - LRFinder: lr = 0.00035350 \n",
      " 48/187 [======>.......................] - ETA: 4:55 - loss: 0.3850 - LRFinder: lr = 0.00038075 \n",
      " 49/187 [======>.......................] - ETA: 4:52 - loss: 0.3832 - LRFinder: lr = 0.00041011 \n",
      " 50/187 [=======>......................] - ETA: 4:50 - loss: 0.3821 - LRFinder: lr = 0.00044173 \n",
      " 51/187 [=======>......................] - ETA: 4:47 - loss: 0.3809 - LRFinder: lr = 0.00047579 \n",
      " 52/187 [=======>......................] - ETA: 4:45 - loss: 0.3799 - LRFinder: lr = 0.00051248 \n",
      " 53/187 [=======>......................] - ETA: 4:43 - loss: 0.3787 - LRFinder: lr = 0.00055200 \n",
      " 54/187 [=======>......................] - ETA: 4:40 - loss: 0.3789 - LRFinder: lr = 0.00059456 \n",
      " 55/187 [=======>......................] - ETA: 4:38 - loss: 0.3785 - LRFinder: lr = 0.00064040 \n",
      " 56/187 [=======>......................] - ETA: 4:35 - loss: 0.3785 - LRFinder: lr = 0.00068978 \n",
      " 57/187 [========>.....................] - ETA: 4:33 - loss: 0.3786 - LRFinder: lr = 0.00074296 \n",
      " 58/187 [========>.....................] - ETA: 4:31 - loss: 0.3787 - LRFinder: lr = 0.00080025 \n",
      " 59/187 [========>.....................] - ETA: 4:28 - loss: 0.3791 - LRFinder: lr = 0.00086195 \n",
      " 60/187 [========>.....................] - ETA: 4:26 - loss: 0.3798 - LRFinder: lr = 0.00092841 \n",
      " 61/187 [========>.....................] - ETA: 4:23 - loss: 0.3802 - LRFinder: lr = 0.00100000 \n",
      " 62/187 [========>.....................] - ETA: 4:21 - loss: 0.3807 - LRFinder: lr = 0.00107710 \n",
      " 63/187 [=========>....................] - ETA: 4:19 - loss: 0.3811 - LRFinder: lr = 0.00116016 \n",
      " 64/187 [=========>....................] - ETA: 4:16 - loss: 0.3814 - LRFinder: lr = 0.00124961 \n",
      " 65/187 [=========>....................] - ETA: 4:14 - loss: 0.3821 - LRFinder: lr = 0.00134596 \n",
      " 66/187 [=========>....................] - ETA: 4:11 - loss: 0.3824 - LRFinder: lr = 0.00144974 \n",
      " 67/187 [=========>....................] - ETA: 4:09 - loss: 0.3824 - LRFinder: lr = 0.00156152 \n",
      " 68/187 [=========>....................] - ETA: 4:07 - loss: 0.3823 - LRFinder: lr = 0.00168192 \n",
      " 69/187 [==========>...................] - ETA: 4:05 - loss: 0.3818 - LRFinder: lr = 0.00181161 \n",
      " 70/187 [==========>...................] - ETA: 4:03 - loss: 0.3814 - LRFinder: lr = 0.00195129 \n",
      " 71/187 [==========>...................] - ETA: 4:00 - loss: 0.3804 - LRFinder: lr = 0.00210175 \n",
      " 72/187 [==========>...................] - ETA: 3:58 - loss: 0.3795 - LRFinder: lr = 0.00226380 \n",
      " 73/187 [==========>...................] - ETA: 3:56 - loss: 0.3787 - LRFinder: lr = 0.00243835 \n",
      " 74/187 [==========>...................] - ETA: 3:54 - loss: 0.3782 - LRFinder: lr = 0.00262636 \n",
      " 75/187 [===========>..................] - ETA: 3:51 - loss: 0.3779 - LRFinder: lr = 0.00282887 \n",
      " 76/187 [===========>..................] - ETA: 3:49 - loss: 0.3778 - LRFinder: lr = 0.00304699 \n",
      " 77/187 [===========>..................] - ETA: 3:47 - loss: 0.3776 - LRFinder: lr = 0.00328193 \n",
      " 78/187 [===========>..................] - ETA: 3:45 - loss: 0.3773 - LRFinder: lr = 0.00353498 \n",
      " 79/187 [===========>..................] - ETA: 3:43 - loss: 0.3770 - LRFinder: lr = 0.00380754 \n",
      " 80/187 [===========>..................] - ETA: 3:41 - loss: 0.3770 - LRFinder: lr = 0.00410113 \n",
      " 81/187 [===========>..................] - ETA: 3:38 - loss: 0.3769 - LRFinder: lr = 0.00441734 \n",
      " 82/187 [============>.................] - ETA: 3:36 - loss: 0.3769 - LRFinder: lr = 0.00475794 \n",
      " 83/187 [============>.................] - ETA: 3:34 - loss: 0.3767 - LRFinder: lr = 0.00512480 \n",
      " 84/187 [============>.................] - ETA: 3:32 - loss: 0.3764 - LRFinder: lr = 0.00551995 \n",
      " 85/187 [============>.................] - ETA: 3:30 - loss: 0.3758 - LRFinder: lr = 0.00594557 \n",
      " 86/187 [============>.................] - ETA: 3:28 - loss: 0.3753 - LRFinder: lr = 0.00640400 \n",
      " 87/187 [============>.................] - ETA: 3:26 - loss: 0.3749 - LRFinder: lr = 0.00689778 \n",
      " 88/187 [=============>................] - ETA: 3:24 - loss: 0.3743 - LRFinder: lr = 0.00742964 \n",
      " 89/187 [=============>................] - ETA: 3:21 - loss: 0.3734 - LRFinder: lr = 0.00800250 \n",
      " 90/187 [=============>................] - ETA: 3:19 - loss: 0.3727 - LRFinder: lr = 0.00861953 \n",
      " 91/187 [=============>................] - ETA: 3:17 - loss: 0.3721 - LRFinder: lr = 0.00928414 \n",
      " 92/187 [=============>................] - ETA: 3:15 - loss: 0.3715 - LRFinder: lr = 0.01000000 \n",
      " 93/187 [=============>................] - ETA: 3:13 - loss: 0.3710 - LRFinder: lr = 0.01077105 \n",
      " 94/187 [==============>...............] - ETA: 3:11 - loss: 0.3705 - LRFinder: lr = 0.01160155 \n",
      " 95/187 [==============>...............] - ETA: 3:09 - loss: 0.3701 - LRFinder: lr = 0.01249609 \n",
      " 96/187 [==============>...............] - ETA: 3:06 - loss: 0.3694 - LRFinder: lr = 0.01345960 \n",
      " 97/187 [==============>...............] - ETA: 3:04 - loss: 0.3687 - LRFinder: lr = 0.01449740 \n",
      " 98/187 [==============>...............] - ETA: 3:02 - loss: 0.3682 - LRFinder: lr = 0.01561523 \n",
      " 99/187 [==============>...............] - ETA: 3:00 - loss: 0.3677 - LRFinder: lr = 0.01681924 \n",
      "100/187 [===============>..............] - ETA: 2:58 - loss: 0.3674 - LRFinder: lr = 0.01811609 \n",
      "101/187 [===============>..............] - ETA: 2:56 - loss: 0.3672 - LRFinder: lr = 0.01951293 \n",
      "102/187 [===============>..............] - ETA: 2:54 - loss: 0.3670 - LRFinder: lr = 0.02101747 \n",
      "103/187 [===============>..............] - ETA: 2:52 - loss: 0.3666 - LRFinder: lr = 0.02263803 \n",
      "104/187 [===============>..............] - ETA: 2:50 - loss: 0.3661 - LRFinder: lr = 0.02438353 \n",
      "105/187 [===============>..............] - ETA: 2:47 - loss: 0.3656 - LRFinder: lr = 0.02626363 \n",
      "106/187 [================>.............] - ETA: 2:45 - loss: 0.3651 - LRFinder: lr = 0.02828869 \n",
      "107/187 [================>.............] - ETA: 2:43 - loss: 0.3645 - LRFinder: lr = 0.03046989 \n",
      "108/187 [================>.............] - ETA: 2:41 - loss: 0.3638 - LRFinder: lr = 0.03281927 \n",
      "109/187 [================>.............] - ETA: 2:39 - loss: 0.3631 - LRFinder: lr = 0.03534980 \n",
      "110/187 [================>.............] - ETA: 2:37 - loss: 0.3624 - LRFinder: lr = 0.03807545 \n",
      "111/187 [================>.............] - ETA: 2:35 - loss: 0.3616 - LRFinder: lr = 0.04101126 \n",
      "112/187 [================>.............] - ETA: 2:33 - loss: 0.3609 - LRFinder: lr = 0.04417343 \n",
      "113/187 [=================>............] - ETA: 2:31 - loss: 0.3602 - LRFinder: lr = 0.04757943 \n",
      "114/187 [=================>............] - ETA: 2:29 - loss: 0.3596 - LRFinder: lr = 0.05124804 \n",
      "115/187 [=================>............] - ETA: 2:27 - loss: 0.3589 - LRFinder: lr = 0.05519953 \n",
      "116/187 [=================>............] - ETA: 2:25 - loss: 0.3581 - LRFinder: lr = 0.05945569 \n",
      "117/187 [=================>............] - ETA: 2:22 - loss: 0.3573 - LRFinder: lr = 0.06404002 \n",
      "118/187 [=================>............] - ETA: 2:20 - loss: 0.3566 - LRFinder: lr = 0.06897783 \n",
      "119/187 [==================>...........] - ETA: 2:18 - loss: 0.3559 - LRFinder: lr = 0.07429637 \n",
      "120/187 [==================>...........] - ETA: 2:16 - loss: 0.3551 - LRFinder: lr = 0.08002500 \n",
      "121/187 [==================>...........] - ETA: 2:14 - loss: 0.3542 - LRFinder: lr = 0.08619533 \n",
      "122/187 [==================>...........] - ETA: 2:12 - loss: 0.3533 - LRFinder: lr = 0.09284142 \n",
      "123/187 [==================>...........] - ETA: 2:10 - loss: 0.3522 - LRFinder: lr = 0.09999997 \n",
      "124/187 [==================>...........] - ETA: 2:08 - loss: 0.3510 - LRFinder: lr = 0.10771047 \n",
      "125/187 [===================>..........] - ETA: 2:06 - loss: 0.3497 - LRFinder: lr = 0.11601549 \n",
      "126/187 [===================>..........] - ETA: 2:04 - loss: 0.3483 - LRFinder: lr = 0.12496087 \n",
      "127/187 [===================>..........] - ETA: 2:02 - loss: 0.3468 - LRFinder: lr = 0.13459598 \n",
      "128/187 [===================>..........] - ETA: 2:00 - loss: 0.3454 - LRFinder: lr = 0.14497402 \n",
      "129/187 [===================>..........] - ETA: 1:58 - loss: 0.3438 - LRFinder: lr = 0.15615225 \n",
      "130/187 [===================>..........] - ETA: 1:56 - loss: 0.3424 - LRFinder: lr = 0.16819238 \n",
      "131/187 [====================>.........] - ETA: 1:54 - loss: 0.3410 - LRFinder: lr = 0.18116085 \n",
      "132/187 [====================>.........] - ETA: 1:52 - loss: 0.3395 - LRFinder: lr = 0.19512927 \n",
      "133/187 [====================>.........] - ETA: 1:49 - loss: 0.3380 - LRFinder: lr = 0.21017473 \n",
      "134/187 [====================>.........] - ETA: 1:47 - loss: 0.3364 - LRFinder: lr = 0.22638026 \n",
      "135/187 [====================>.........] - ETA: 1:45 - loss: 0.3347 - LRFinder: lr = 0.24383532 \n",
      "136/187 [====================>.........] - ETA: 1:43 - loss: 0.3330 - LRFinder: lr = 0.26263625 \n",
      "137/187 [====================>.........] - ETA: 1:41 - loss: 0.3313 - LRFinder: lr = 0.28288683 \n",
      "138/187 [=====================>........] - ETA: 1:39 - loss: 0.3295 - LRFinder: lr = 0.30469884 \n",
      "139/187 [=====================>........] - ETA: 1:37 - loss: 0.3278 - LRFinder: lr = 0.32819264 \n",
      "140/187 [=====================>........] - ETA: 1:35 - loss: 0.3258 - LRFinder: lr = 0.35349796 \n",
      "141/187 [=====================>........] - ETA: 1:33 - loss: 0.3240 - LRFinder: lr = 0.38075443 \n",
      "142/187 [=====================>........] - ETA: 1:31 - loss: 0.3220 - LRFinder: lr = 0.41011253 \n",
      "143/187 [=====================>........] - ETA: 1:29 - loss: 0.3202 - LRFinder: lr = 0.44173428 \n",
      "144/187 [======================>.......] - ETA: 1:27 - loss: 0.3182 - LRFinder: lr = 0.47579423 \n",
      "145/187 [======================>.......] - ETA: 1:25 - loss: 0.3166 - LRFinder: lr = 0.51248037 \n",
      "146/187 [======================>.......] - ETA: 1:23 - loss: 0.3148 - LRFinder: lr = 0.55199521 \n",
      "147/187 [======================>.......] - ETA: 1:21 - loss: 0.3133 - LRFinder: lr = 0.59455684 \n",
      "148/187 [======================>.......] - ETA: 1:19 - loss: 0.3117 - LRFinder: lr = 0.64040021 \n",
      "149/187 [======================>.......] - ETA: 1:17 - loss: 0.3103 - LRFinder: lr = 0.68977833 \n",
      "150/187 [=======================>......] - ETA: 1:15 - loss: 0.3087 - LRFinder: lr = 0.74296372 \n",
      "151/187 [=======================>......] - ETA: 1:13 - loss: 0.3075 - LRFinder: lr = 0.80024999 \n",
      "152/187 [=======================>......] - ETA: 1:11 - loss: 0.3061 - LRFinder: lr = 0.86195331 \n",
      "153/187 [=======================>......] - ETA: 1:09 - loss: 0.3047 - LRFinder: lr = 0.92841428 \n",
      "154/187 [=======================>......] - ETA: 1:07 - loss: 0.3033 - LRFinder: lr = 0.99999972 \n",
      "155/187 [=======================>......] - ETA: 1:04 - loss: 0.3019 - LRFinder: lr = 1.07710474 \n",
      "156/187 [========================>.....] - ETA: 1:02 - loss: 0.3005 - LRFinder: lr = 1.16015490 \n",
      "157/187 [========================>.....] - ETA: 1:00 - loss: 0.2990 - LRFinder: lr = 1.24960875 \n",
      "158/187 [========================>.....] - ETA: 58s - loss: 0.2977  - LRFinder: lr = 1.34595991 \n",
      "159/187 [========================>.....] - ETA: 56s - loss: 0.2963 - LRFinder: lr = 1.44974022 \n",
      "160/187 [========================>.....] - ETA: 54s - loss: 0.2949 - LRFinder: lr = 1.56152247 \n",
      "161/187 [========================>.....] - ETA: 52s - loss: 0.2935 - LRFinder: lr = 1.68192376 \n",
      "162/187 [========================>.....] - ETA: 50s - loss: 0.2922 - LRFinder: lr = 1.81160857 \n",
      "163/187 [=========================>....] - ETA: 48s - loss: 0.2907 - LRFinder: lr = 1.95129273 \n",
      "164/187 [=========================>....] - ETA: 46s - loss: 0.2894 - LRFinder: lr = 2.10174729 \n",
      "165/187 [=========================>....] - ETA: 44s - loss: 0.2880 - LRFinder: lr = 2.26380262 \n",
      "166/187 [=========================>....] - ETA: 42s - loss: 0.2868 - LRFinder: lr = 2.43835315 \n",
      "167/187 [=========================>....] - ETA: 40s - loss: 0.2855 - LRFinder: lr = 2.62636241 \n",
      "168/187 [=========================>....] - ETA: 38s - loss: 0.2844 - LRFinder: lr = 2.82886814 \n",
      "169/187 [==========================>...] - ETA: 36s - loss: 0.2831 - LRFinder: lr = 3.04698819 \n",
      "170/187 [==========================>...] - ETA: 34s - loss: 0.2820 - LRFinder: lr = 3.28192645 \n",
      "171/187 [==========================>...] - ETA: 32s - loss: 0.2809 - LRFinder: lr = 3.53497951 \n",
      "172/187 [==========================>...] - ETA: 30s - loss: 0.2797 - LRFinder: lr = 3.80754438 \n",
      "173/187 [==========================>...] - ETA: 28s - loss: 0.2787 - LRFinder: lr = 4.10112540 \n",
      "174/187 [==========================>...] - ETA: 26s - loss: 0.2776 - LRFinder: lr = 4.41734273 \n",
      "175/187 [===========================>..] - ETA: 24s - loss: 0.2766 - LRFinder: lr = 4.75794212 \n",
      "176/187 [===========================>..] - ETA: 22s - loss: 0.2754 - LRFinder: lr = 5.12480360 \n",
      "177/187 [===========================>..] - ETA: 20s - loss: 0.2745 - LRFinder: lr = 5.51995181 \n",
      "178/187 [===========================>..] - ETA: 18s - loss: 0.2735 - LRFinder: lr = 5.94556801 \n",
      "179/187 [===========================>..] - ETA: 16s - loss: 0.2724 - LRFinder: Skipping iteration since loss is 4 times as large as best loss (0.0407)\n",
      "180/187 [===========================>..] - ETA: 14s - loss: 0.2721 - LRFinder: lr = 6.40400145 \n",
      "181/187 [============================>.] - ETA: 12s - loss: 0.2710 - LRFinder: Skipping iteration since loss is 4 times as large as best loss (0.0407)\n",
      "182/187 [============================>.] - ETA: 10s - loss: 0.2714 - LRFinder: lr = 6.89778211 \n",
      "183/187 [============================>.] - ETA: 8s - loss: 0.2704  - LRFinder: lr = 7.42963622 \n",
      "184/187 [============================>.] - ETA: 6s - loss: 0.2696 - LRFinder: lr = 8.00249850 \n",
      "185/187 [============================>.] - ETA: 4s - loss: 0.2686 - LRFinder: Skipping iteration since loss is 4 times as large as best loss (0.0407)\n",
      "186/187 [============================>.] - ETA: 2s - loss: 0.2681 - LRFinder: lr = 8.61953173 \n",
      "\tLR Finder : Saved the losses and learning rate values in path : {../data/models/lrs/PredNetOriginal_256}\n",
      "187/187 [==============================] - 378s 2s/step - loss: 0.2674\n"
     ]
    },
    {
     "data": {
      "text/plain": [
       "<utils.clr.LRFinder at 0x7fb136d15400>"
      ]
     },
     "execution_count": 15,
     "metadata": {},
     "output_type": "execute_result"
    }
   ],
   "source": [
    "lrfinder = P.lr_find()"
   ]
  },
  {
   "cell_type": "code",
   "execution_count": 51,
   "metadata": {},
   "outputs": [
    {
     "data": {
      "image/png": "[encoded data removed]",
      "text/plain": [
       "<Figure size 432x288 with 1 Axes>"
      ]
     },
     "metadata": {},
     "output_type": "display_data"
    }
   ],
   "source": [
    "LRFinder.plot_schedule_from_file('../data/models/lrs/PredNetOriginal_256/', 50)"
   ]
  },
  {
   "cell_type": "code",
   "execution_count": 46,
   "metadata": {},
   "outputs": [
    {
     "data": {
      "text/plain": [
       "PosixPath('../data/models/lrs/PredNetLeakyRelu_256')"
      ]
     },
     "execution_count": 46,
     "metadata": {},
     "output_type": "execute_result"
    }
   ],
   "source": [
    "P.path_lrs"
   ]
  },
  {
   "cell_type": "markdown",
   "metadata": {},
   "source": [
    "find lr on leaky prednet"
   ]
  },
  {
   "cell_type": "code",
   "execution_count": 36,
   "metadata": {},
   "outputs": [],
   "source": [
    "mt = ModelType.PredNetLeakyRelu"
   ]
  },
  {
   "cell_type": "code",
   "execution_count": 37,
   "metadata": {},
   "outputs": [],
   "source": [
    "P = Predrain()\n",
    "P.set_config(sz, nt, bs, mt, num_gpus, gpu_start, allow_growth=False)"
   ]
  },
  {
   "cell_type": "code",
   "execution_count": 38,
   "metadata": {},
   "outputs": [
    {
     "name": "stderr",
     "output_type": "stream",
     "text": [
      "/usr/local/anaconda3/envs/pred-rain/lib/python3.6/site-packages/tensorflow/python/util/tf_inspect.py:75: DeprecationWarning: inspect.getargspec() is deprecated, use inspect.signature() or inspect.getfullargspec()\n",
      "  return _inspect.getargspec(target)\n"
     ]
    },
    {
     "data": {
      "text/plain": [
       "((<tf.Tensor 'IteratorGetNext_8:0' shape=(?, 10, 256, 256, 1) dtype=float32>,\n",
       "  <tf.Tensor 'zeros_8:0' shape=(6, 1) dtype=float32>),\n",
       " (<tf.Tensor 'IteratorGetNext_9:0' shape=(?, 10, 256, 256, 1) dtype=float32>,\n",
       "  <tf.Tensor 'zeros_9:0' shape=(6, 1) dtype=float32>),\n",
       " 22500,\n",
       " 2500)"
      ]
     },
     "execution_count": 38,
     "metadata": {},
     "output_type": "execute_result"
    }
   ],
   "source": [
    "P.get_data(pred_mode='skip')"
   ]
  },
  {
   "cell_type": "code",
   "execution_count": 39,
   "metadata": {},
   "outputs": [
    {
     "data": {
      "text/plain": [
       "<tensorflow.python.keras.engine.training.Model at 0x7fadacaa1e10>"
      ]
     },
     "execution_count": 39,
     "metadata": {},
     "output_type": "execute_result"
    }
   ],
   "source": [
    "P.get_model(mt)"
   ]
  },
  {
   "cell_type": "code",
   "execution_count": 40,
   "metadata": {},
   "outputs": [
    {
     "name": "stdout",
     "output_type": "stream",
     "text": [
      "Epoch 1/1\n",
      " - LRFinder: lr = 0.00001077 \n",
      "  1/187 [..............................] - ETA: 17:23 - loss: 0.3966 - LRFinder: lr = 0.00001160 \n",
      "  2/187 [..............................] - ETA: 11:39 - loss: 0.4062 - LRFinder: lr = 0.00001250 \n",
      "  3/187 [..............................] - ETA: 9:45 - loss: 0.4063  - LRFinder: lr = 0.00001346 \n",
      "  4/187 [..............................] - ETA: 8:45 - loss: 0.4074 - LRFinder: lr = 0.00001450 \n",
      "  5/187 [..............................] - ETA: 8:09 - loss: 0.4053 - LRFinder: lr = 0.00001562 \n",
      "  6/187 [..............................] - ETA: 7:44 - loss: 0.4056 - LRFinder: lr = 0.00001682 \n",
      "  7/187 [>.............................] - ETA: 7:24 - loss: 0.4002 - LRFinder: lr = 0.00001812 \n",
      "  8/187 [>.............................] - ETA: 7:10 - loss: 0.3974 - LRFinder: lr = 0.00001951 \n",
      "  9/187 [>.............................] - ETA: 6:58 - loss: 0.3948 - LRFinder: lr = 0.00002102 \n",
      " 10/187 [>.............................] - ETA: 6:49 - loss: 0.3878 - LRFinder: lr = 0.00002264 \n",
      " 11/187 [>.............................] - ETA: 6:42 - loss: 0.3799 - LRFinder: lr = 0.00002438 \n",
      " 12/187 [>.............................] - ETA: 6:35 - loss: 0.3752 - LRFinder: lr = 0.00002626 \n",
      " 13/187 [=>............................] - ETA: 6:30 - loss: 0.3722 - LRFinder: lr = 0.00002829 \n",
      " 14/187 [=>............................] - ETA: 6:25 - loss: 0.3705 - LRFinder: lr = 0.00003047 \n",
      " 15/187 [=>............................] - ETA: 6:19 - loss: 0.3694 - LRFinder: lr = 0.00003282 \n",
      " 16/187 [=>............................] - ETA: 6:13 - loss: 0.3680 - LRFinder: lr = 0.00003535 \n",
      " 17/187 [=>............................] - ETA: 6:09 - loss: 0.3694 - LRFinder: lr = 0.00003808 \n",
      " 18/187 [=>............................] - ETA: 6:05 - loss: 0.3694 - LRFinder: lr = 0.00004101 \n",
      " 19/187 [==>...........................] - ETA: 6:00 - loss: 0.3691 - LRFinder: lr = 0.00004417 \n",
      " 20/187 [==>...........................] - ETA: 5:56 - loss: 0.3700 - LRFinder: lr = 0.00004758 \n",
      " 21/187 [==>...........................] - ETA: 5:53 - loss: 0.3718 - LRFinder: lr = 0.00005125 \n",
      " 22/187 [==>...........................] - ETA: 5:50 - loss: 0.3738 - LRFinder: lr = 0.00005520 \n",
      " 23/187 [==>...........................] - ETA: 5:46 - loss: 0.3755 - LRFinder: lr = 0.00005946 \n",
      " 24/187 [==>...........................] - ETA: 5:43 - loss: 0.3771 - LRFinder: lr = 0.00006404 \n",
      " 25/187 [===>..........................] - ETA: 5:40 - loss: 0.3781 - LRFinder: lr = 0.00006898 \n",
      " 26/187 [===>..........................] - ETA: 5:37 - loss: 0.3786 - LRFinder: lr = 0.00007430 \n",
      " 27/187 [===>..........................] - ETA: 5:34 - loss: 0.3790 - LRFinder: lr = 0.00008003 \n",
      " 28/187 [===>..........................] - ETA: 5:31 - loss: 0.3784 - LRFinder: lr = 0.00008620 \n",
      " 29/187 [===>..........................] - ETA: 5:29 - loss: 0.3766 - LRFinder: lr = 0.00009284 \n",
      " 30/187 [===>..........................] - ETA: 5:25 - loss: 0.3742 - LRFinder: lr = 0.00010000 \n",
      " 31/187 [===>..........................] - ETA: 5:22 - loss: 0.3726 - LRFinder: lr = 0.00010771 \n",
      " 32/187 [====>.........................] - ETA: 5:20 - loss: 0.3715 - LRFinder: lr = 0.00011602 \n",
      " 33/187 [====>.........................] - ETA: 5:18 - loss: 0.3704 - LRFinder: lr = 0.00012496 \n",
      " 34/187 [====>.........................] - ETA: 5:16 - loss: 0.3698 - LRFinder: lr = 0.00013460 \n",
      " 35/187 [====>.........................] - ETA: 5:13 - loss: 0.3696 - LRFinder: lr = 0.00014497 \n",
      " 36/187 [====>.........................] - ETA: 5:10 - loss: 0.3690 - LRFinder: lr = 0.00015615 \n",
      " 37/187 [====>.........................] - ETA: 5:08 - loss: 0.3685 - LRFinder: lr = 0.00016819 \n",
      " 38/187 [=====>........................] - ETA: 5:05 - loss: 0.3689 - LRFinder: lr = 0.00018116 \n",
      " 39/187 [=====>........................] - ETA: 5:03 - loss: 0.3694 - LRFinder: lr = 0.00019513 \n",
      " 40/187 [=====>........................] - ETA: 5:00 - loss: 0.3702 - LRFinder: lr = 0.00021017 \n",
      " 41/187 [=====>........................] - ETA: 4:58 - loss: 0.3704 - LRFinder: lr = 0.00022638 \n",
      " 42/187 [=====>........................] - ETA: 4:56 - loss: 0.3712 - LRFinder: lr = 0.00024384 \n",
      " 43/187 [=====>........................] - ETA: 4:54 - loss: 0.3719 - LRFinder: lr = 0.00026264 \n",
      " 44/187 [======>.......................] - ETA: 4:51 - loss: 0.3725 - LRFinder: lr = 0.00028289 \n",
      " 45/187 [======>.......................] - ETA: 4:49 - loss: 0.3730 - LRFinder: lr = 0.00030470 \n",
      " 46/187 [======>.......................] - ETA: 4:47 - loss: 0.3734 - LRFinder: lr = 0.00032819 \n",
      " 47/187 [======>.......................] - ETA: 4:45 - loss: 0.3731 - LRFinder: lr = 0.00035350 \n",
      " 48/187 [======>.......................] - ETA: 4:42 - loss: 0.3723 - LRFinder: lr = 0.00038075 \n",
      " 49/187 [======>.......................] - ETA: 4:40 - loss: 0.3718 - LRFinder: lr = 0.00041011 \n",
      " 50/187 [=======>......................] - ETA: 4:38 - loss: 0.3709 - LRFinder: lr = 0.00044173 \n",
      " 51/187 [=======>......................] - ETA: 4:36 - loss: 0.3699 - LRFinder: lr = 0.00047579 \n",
      " 52/187 [=======>......................] - ETA: 4:34 - loss: 0.3692 - LRFinder: lr = 0.00051248 \n",
      " 53/187 [=======>......................] - ETA: 4:32 - loss: 0.3691 - LRFinder: lr = 0.00055200 \n",
      " 54/187 [=======>......................] - ETA: 4:29 - loss: 0.3681 - LRFinder: lr = 0.00059456 \n",
      " 55/187 [=======>......................] - ETA: 4:27 - loss: 0.3681 - LRFinder: lr = 0.00064040 \n",
      " 56/187 [=======>......................] - ETA: 4:25 - loss: 0.3679 - LRFinder: lr = 0.00068978 \n",
      " 57/187 [========>.....................] - ETA: 4:23 - loss: 0.3677 - LRFinder: lr = 0.00074296 \n",
      " 58/187 [========>.....................] - ETA: 4:21 - loss: 0.3680 - LRFinder: lr = 0.00080025 \n",
      " 59/187 [========>.....................] - ETA: 4:19 - loss: 0.3683 - LRFinder: lr = 0.00086195 \n",
      " 60/187 [========>.....................] - ETA: 4:17 - loss: 0.3683 - LRFinder: lr = 0.00092841 \n",
      " 61/187 [========>.....................] - ETA: 4:15 - loss: 0.3688 - LRFinder: lr = 0.00100000 \n",
      " 62/187 [========>.....................] - ETA: 4:13 - loss: 0.3691 - LRFinder: lr = 0.00107710 \n",
      " 63/187 [=========>....................] - ETA: 4:10 - loss: 0.3697 - LRFinder: lr = 0.00116016 \n",
      " 64/187 [=========>....................] - ETA: 4:08 - loss: 0.3704 - LRFinder: lr = 0.00124961 \n",
      " 65/187 [=========>....................] - ETA: 4:06 - loss: 0.3704 - LRFinder: lr = 0.00134596 \n",
      " 66/187 [=========>....................] - ETA: 4:04 - loss: 0.3706 - LRFinder: lr = 0.00144974 \n",
      " 67/187 [=========>....................] - ETA: 4:02 - loss: 0.3708 - LRFinder: lr = 0.00156152 \n",
      " 68/187 [=========>....................] - ETA: 4:00 - loss: 0.3703 - LRFinder: lr = 0.00168192 \n",
      " 69/187 [==========>...................] - ETA: 3:57 - loss: 0.3696 - LRFinder: lr = 0.00181161 \n",
      " 70/187 [==========>...................] - ETA: 3:55 - loss: 0.3690 - LRFinder: lr = 0.00195129 \n",
      " 71/187 [==========>...................] - ETA: 3:54 - loss: 0.3686 - LRFinder: lr = 0.00210175 \n",
      " 72/187 [==========>...................] - ETA: 3:52 - loss: 0.3679 - LRFinder: lr = 0.00226380 \n",
      " 73/187 [==========>...................] - ETA: 3:50 - loss: 0.3671 - LRFinder: lr = 0.00243835 \n",
      " 74/187 [==========>...................] - ETA: 3:48 - loss: 0.3667 - LRFinder: lr = 0.00262636 \n",
      " 75/187 [===========>..................] - ETA: 3:46 - loss: 0.3666 - LRFinder: lr = 0.00282887 \n",
      " 76/187 [===========>..................] - ETA: 3:43 - loss: 0.3664 - LRFinder: lr = 0.00304699 \n",
      " 77/187 [===========>..................] - ETA: 3:41 - loss: 0.3663 - LRFinder: lr = 0.00328193 \n",
      " 78/187 [===========>..................] - ETA: 3:39 - loss: 0.3658 - LRFinder: lr = 0.00353498 \n",
      " 79/187 [===========>..................] - ETA: 3:37 - loss: 0.3659 - LRFinder: lr = 0.00380754 \n",
      " 80/187 [===========>..................] - ETA: 3:35 - loss: 0.3659 - LRFinder: lr = 0.00410113 \n",
      " 81/187 [===========>..................] - ETA: 3:33 - loss: 0.3658 - LRFinder: lr = 0.00441734 \n",
      " 82/187 [============>.................] - ETA: 3:31 - loss: 0.3656 - LRFinder: lr = 0.00475794 \n",
      " 83/187 [============>.................] - ETA: 3:29 - loss: 0.3654 - LRFinder: lr = 0.00512480 \n",
      " 84/187 [============>.................] - ETA: 3:27 - loss: 0.3652 - LRFinder: lr = 0.00551995 \n",
      " 85/187 [============>.................] - ETA: 3:25 - loss: 0.3647 - LRFinder: lr = 0.00594557 \n",
      " 86/187 [============>.................] - ETA: 3:23 - loss: 0.3643 - LRFinder: lr = 0.00640400 \n",
      " 87/187 [============>.................] - ETA: 3:21 - loss: 0.3637 - LRFinder: lr = 0.00689778 \n",
      " 88/187 [=============>................] - ETA: 3:19 - loss: 0.3629 - LRFinder: lr = 0.00742964 \n",
      " 89/187 [=============>................] - ETA: 3:17 - loss: 0.3622 - LRFinder: lr = 0.00800250 \n",
      " 90/187 [=============>................] - ETA: 3:15 - loss: 0.3617 - LRFinder: lr = 0.00861953 \n",
      " 91/187 [=============>................] - ETA: 3:13 - loss: 0.3612 - LRFinder: lr = 0.00928414 \n",
      " 92/187 [=============>................] - ETA: 3:11 - loss: 0.3607 - LRFinder: lr = 0.01000000 \n",
      " 93/187 [=============>................] - ETA: 3:09 - loss: 0.3603 - LRFinder: lr = 0.01077105 \n",
      " 94/187 [==============>...............] - ETA: 3:07 - loss: 0.3599 - LRFinder: lr = 0.01160155 \n",
      " 95/187 [==============>...............] - ETA: 3:05 - loss: 0.3593 - LRFinder: lr = 0.01249609 \n",
      " 96/187 [==============>...............] - ETA: 3:03 - loss: 0.3588 - LRFinder: lr = 0.01345960 \n",
      " 97/187 [==============>...............] - ETA: 3:01 - loss: 0.3581 - LRFinder: lr = 0.01449740 \n",
      " 98/187 [==============>...............] - ETA: 2:59 - loss: 0.3576 - LRFinder: lr = 0.01561523 \n",
      " 99/187 [==============>...............] - ETA: 2:57 - loss: 0.3574 - LRFinder: lr = 0.01681924 \n",
      "100/187 [===============>..............] - ETA: 2:55 - loss: 0.3569 - LRFinder: lr = 0.01811609 \n",
      "101/187 [===============>..............] - ETA: 2:53 - loss: 0.3567 - LRFinder: lr = 0.01951293 \n",
      "102/187 [===============>..............] - ETA: 2:51 - loss: 0.3565 - LRFinder: lr = 0.02101747 \n",
      "103/187 [===============>..............] - ETA: 2:49 - loss: 0.3560 - LRFinder: lr = 0.02263803 \n",
      "104/187 [===============>..............] - ETA: 2:47 - loss: 0.3555 - LRFinder: lr = 0.02438353 \n",
      "105/187 [===============>..............] - ETA: 2:45 - loss: 0.3549 - LRFinder: lr = 0.02626363 \n",
      "106/187 [================>.............] - ETA: 2:43 - loss: 0.3543 - LRFinder: lr = 0.02828869 \n",
      "107/187 [================>.............] - ETA: 2:41 - loss: 0.3538 - LRFinder: lr = 0.03046989 \n",
      "108/187 [================>.............] - ETA: 2:39 - loss: 0.3532 - LRFinder: lr = 0.03281927 \n",
      "109/187 [================>.............] - ETA: 2:37 - loss: 0.3525 - LRFinder: lr = 0.03534980 \n",
      "110/187 [================>.............] - ETA: 2:34 - loss: 0.3518 - LRFinder: lr = 0.03807545 \n",
      "111/187 [================>.............] - ETA: 2:32 - loss: 0.3510 - LRFinder: lr = 0.04101126 \n",
      "112/187 [================>.............] - ETA: 2:30 - loss: 0.3504 - LRFinder: lr = 0.04417343 \n",
      "113/187 [=================>............] - ETA: 2:28 - loss: 0.3497 - LRFinder: lr = 0.04757943 \n",
      "114/187 [=================>............] - ETA: 2:26 - loss: 0.3491 - LRFinder: lr = 0.05124804 \n",
      "115/187 [=================>............] - ETA: 2:24 - loss: 0.3484 - LRFinder: lr = 0.05519953 \n",
      "116/187 [=================>............] - ETA: 2:22 - loss: 0.3476 - LRFinder: lr = 0.05945569 \n",
      "117/187 [=================>............] - ETA: 2:20 - loss: 0.3468 - LRFinder: lr = 0.06404002 \n",
      "118/187 [=================>............] - ETA: 2:18 - loss: 0.3460 - LRFinder: lr = 0.06897783 \n",
      "119/187 [==================>...........] - ETA: 2:16 - loss: 0.3452 - LRFinder: lr = 0.07429637 \n",
      "120/187 [==================>...........] - ETA: 2:14 - loss: 0.3444 - LRFinder: lr = 0.08002500 \n",
      "121/187 [==================>...........] - ETA: 2:12 - loss: 0.3435 - LRFinder: lr = 0.08619533 \n",
      "122/187 [==================>...........] - ETA: 2:10 - loss: 0.3425 - LRFinder: lr = 0.09284142 \n",
      "123/187 [==================>...........] - ETA: 2:08 - loss: 0.3414 - LRFinder: lr = 0.09999997 \n",
      "124/187 [==================>...........] - ETA: 2:06 - loss: 0.3402 - LRFinder: lr = 0.10771047 \n",
      "125/187 [===================>..........] - ETA: 2:04 - loss: 0.3389 - LRFinder: lr = 0.11601549 \n",
      "126/187 [===================>..........] - ETA: 2:02 - loss: 0.3375 - LRFinder: lr = 0.12496087 \n",
      "127/187 [===================>..........] - ETA: 2:00 - loss: 0.3361 - LRFinder: lr = 0.13459598 \n",
      "128/187 [===================>..........] - ETA: 1:58 - loss: 0.3346 - LRFinder: lr = 0.14497402 \n",
      "129/187 [===================>..........] - ETA: 1:56 - loss: 0.3332 - LRFinder: lr = 0.15615225 \n",
      "130/187 [===================>..........] - ETA: 1:54 - loss: 0.3317 - LRFinder: lr = 0.16819238 \n",
      "131/187 [====================>.........] - ETA: 1:52 - loss: 0.3303 - LRFinder: lr = 0.18116085 \n",
      "132/187 [====================>.........] - ETA: 1:50 - loss: 0.3287 - LRFinder: lr = 0.19512927 \n",
      "133/187 [====================>.........] - ETA: 1:48 - loss: 0.3271 - LRFinder: lr = 0.21017473 \n",
      "134/187 [====================>.........] - ETA: 1:46 - loss: 0.3254 - LRFinder: lr = 0.22638026 \n",
      "135/187 [====================>.........] - ETA: 1:44 - loss: 0.3238 - LRFinder: lr = 0.24383532 \n",
      "136/187 [====================>.........] - ETA: 1:42 - loss: 0.3222 - LRFinder: lr = 0.26263625 \n",
      "137/187 [====================>.........] - ETA: 1:40 - loss: 0.3205 - LRFinder: lr = 0.28288683 \n",
      "138/187 [=====================>........] - ETA: 1:38 - loss: 0.3188 - LRFinder: lr = 0.30469884 \n",
      "139/187 [=====================>........] - ETA: 1:36 - loss: 0.3170 - LRFinder: lr = 0.32819264 \n",
      "140/187 [=====================>........] - ETA: 1:34 - loss: 0.3152 - LRFinder: lr = 0.35349796 \n",
      "141/187 [=====================>........] - ETA: 1:32 - loss: 0.3134 - LRFinder: lr = 0.38075443 \n",
      "142/187 [=====================>........] - ETA: 1:30 - loss: 0.3117 - LRFinder: lr = 0.41011253 \n",
      "143/187 [=====================>........] - ETA: 1:28 - loss: 0.3099 - LRFinder: lr = 0.44173428 \n",
      "144/187 [======================>.......] - ETA: 1:26 - loss: 0.3082 - LRFinder: lr = 0.47579423 \n",
      "145/187 [======================>.......] - ETA: 1:24 - loss: 0.3065 - LRFinder: lr = 0.51248037 \n",
      "146/187 [======================>.......] - ETA: 1:22 - loss: 0.3049 - LRFinder: lr = 0.55199521 \n",
      "147/187 [======================>.......] - ETA: 1:20 - loss: 0.3031 - LRFinder: lr = 0.59455684 \n",
      "148/187 [======================>.......] - ETA: 1:18 - loss: 0.3017 - LRFinder: lr = 0.64040021 \n",
      "149/187 [======================>.......] - ETA: 1:16 - loss: 0.3002 - LRFinder: lr = 0.68977833 \n",
      "150/187 [=======================>......] - ETA: 1:14 - loss: 0.2987 - LRFinder: lr = 0.74296372 \n",
      "151/187 [=======================>......] - ETA: 1:12 - loss: 0.2974 - LRFinder: lr = 0.80024999 \n",
      "152/187 [=======================>......] - ETA: 1:10 - loss: 0.2960 - LRFinder: lr = 0.86195331 \n",
      "153/187 [=======================>......] - ETA: 1:08 - loss: 0.2947 - LRFinder: lr = 0.92841428 \n",
      "154/187 [=======================>......] - ETA: 1:06 - loss: 0.2934 - LRFinder: lr = 0.99999972 \n",
      "155/187 [=======================>......] - ETA: 1:04 - loss: 0.2920 - LRFinder: lr = 1.07710474 \n",
      "156/187 [========================>.....] - ETA: 1:02 - loss: 0.2908 - LRFinder: lr = 1.16015490 \n",
      "157/187 [========================>.....] - ETA: 1:00 - loss: 0.2893 - LRFinder: lr = 1.24960875 \n",
      "158/187 [========================>.....] - ETA: 58s - loss: 0.2880  - LRFinder: lr = 1.34595991 \n",
      "159/187 [========================>.....] - ETA: 56s - loss: 0.2867 - LRFinder: lr = 1.44974022 \n",
      "160/187 [========================>.....] - ETA: 54s - loss: 0.2854 - LRFinder: lr = 1.56152247 \n",
      "161/187 [========================>.....] - ETA: 52s - loss: 0.2840 - LRFinder: lr = 1.68192376 \n",
      "162/187 [========================>.....] - ETA: 50s - loss: 0.2828 - LRFinder: lr = 1.81160857 \n",
      "163/187 [=========================>....] - ETA: 48s - loss: 0.2814 - LRFinder: lr = 1.95129273 \n",
      "164/187 [=========================>....] - ETA: 46s - loss: 0.2802 - LRFinder: lr = 2.10174729 \n",
      "165/187 [=========================>....] - ETA: 44s - loss: 0.2788 - LRFinder: lr = 2.26380262 \n",
      "166/187 [=========================>....] - ETA: 42s - loss: 0.2776 - LRFinder: lr = 2.43835315 \n",
      "167/187 [=========================>....] - ETA: 40s - loss: 0.2765 - LRFinder: lr = 2.62636241 \n",
      "168/187 [=========================>....] - ETA: 38s - loss: 0.2752 - LRFinder: lr = 2.82886814 \n",
      "169/187 [==========================>...] - ETA: 36s - loss: 0.2742 - LRFinder: lr = 3.04698819 \n",
      "170/187 [==========================>...] - ETA: 34s - loss: 0.2728 - LRFinder: lr = 3.28192645 \n",
      "171/187 [==========================>...] - ETA: 32s - loss: 0.2717 - LRFinder: lr = 3.53497951 \n",
      "172/187 [==========================>...] - ETA: 30s - loss: 0.2707 - LRFinder: lr = 3.80754438 \n",
      "173/187 [==========================>...] - ETA: 28s - loss: 0.2697 - LRFinder: lr = 4.10112540 \n",
      "174/187 [==========================>...] - ETA: 26s - loss: 0.2687 - LRFinder: lr = 4.41734273 \n",
      "175/187 [===========================>..] - ETA: 24s - loss: 0.2678 - LRFinder: lr = 4.75794212 \n",
      "176/187 [===========================>..] - ETA: 22s - loss: 0.2668 - LRFinder: lr = 5.12480360 \n",
      "177/187 [===========================>..] - ETA: 20s - loss: 0.2660 - LRFinder: lr = 5.51995181 \n",
      "178/187 [===========================>..] - ETA: 18s - loss: 0.2654 - LRFinder: Skipping iteration since loss is 4 times as large as best loss (0.0426)\n",
      "179/187 [===========================>..] - ETA: 16s - loss: 0.2650 - LRFinder: lr = 5.94556801 \n",
      "180/187 [===========================>..] - ETA: 14s - loss: 0.2643 - LRFinder: lr = 6.40400145 \n",
      "181/187 [============================>.] - ETA: 12s - loss: 0.2636 - LRFinder: lr = 6.89778211 \n",
      "182/187 [============================>.] - ETA: 10s - loss: 0.2628 - LRFinder: lr = 7.42963622 \n",
      "183/187 [============================>.] - ETA: 8s - loss: 0.2621  - LRFinder: lr = 8.00249850 \n",
      "184/187 [============================>.] - ETA: 6s - loss: 0.2612 - LRFinder: lr = 8.61953173 \n",
      "185/187 [============================>.] - ETA: 4s - loss: 0.2604 - LRFinder: lr = 9.28414110 \n",
      "186/187 [============================>.] - ETA: 2s - loss: 0.2597 - LRFinder: lr = 9.99999579 \n",
      "\tLR Finder : Saved the losses and learning rate values in path : {../data/models/lrs/PredNetLeakyRelu_256}\n",
      "187/187 [==============================] - 376s 2s/step - loss: 0.2589\n"
     ]
    }
   ],
   "source": [
    "P.load(ModelType.PredNetOriginal)"
   ]
  },
  {
   "cell_type": "code",
   "execution_count": 45,
   "metadata": {},
   "outputs": [
    {
     "data": {
      "image/png": "[encoded data removed]",
      "text/plain": [
       "<Figure size 432x288 with 1 Axes>"
      ]
     },
     "metadata": {},
     "output_type": "display_data"
    }
   ],
   "source": [
    "lrfinder.plot_schedule(50)"
   ]
  },
  {
   "cell_type": "code",
   "execution_count": null,
   "metadata": {},
   "outputs": [],
   "source": [
    "P.load(ModelType.PredNetO)"
   ]
  },
  {
   "cell_type": "code",
   "execution_count": null,
   "metadata": {},
   "outputs": [],
   "source": []
  },
  {
   "cell_type": "markdown",
   "metadata": {},
   "source": [
    "upsample"
   ]
  },
  {
   "cell_type": "code",
   "execution_count": 55,
   "metadata": {},
   "outputs": [],
   "source": [
    "sz = 256\n",
    "bs = 6"
   ]
  },
  {
   "cell_type": "code",
   "execution_count": 60,
   "metadata": {},
   "outputs": [
    {
     "name": "stderr",
     "output_type": "stream",
     "text": [
      "/usr/local/anaconda3/envs/pred-rain/lib/python3.6/site-packages/tensorflow/python/util/tf_inspect.py:75: DeprecationWarning: inspect.getargspec() is deprecated, use inspect.signature() or inspect.getfullargspec()\n",
      "  return _inspect.getargspec(target)\n"
     ]
    },
    {
     "data": {
      "text/plain": [
       "<tensorflow.python.keras.engine.training.Model at 0x7fad5c96bef0>"
      ]
     },
     "execution_count": 60,
     "metadata": {},
     "output_type": "execute_result"
    }
   ],
   "source": [
    "P = Predrain()\n",
    "P.set_config(sz, nt, bs, mt, num_gpus, gpu_start, allow_growth=False, comment='from_128')\n",
    "P.get_data(pred_mode='skip')\n",
    "P.get_model(mt)"
   ]
  },
  {
   "cell_type": "code",
   "execution_count": 61,
   "metadata": {},
   "outputs": [],
   "source": [
    "P.load(ModelType.PredNetOriginal, 128, 1)"
   ]
  },
  {
   "cell_type": "code",
   "execution_count": null,
   "metadata": {},
   "outputs": [
    {
     "name": "stdout",
     "output_type": "stream",
     "text": [
      "Epoch 1/4\n",
      " 1210/15000 [=>............................] - ETA: 7:47:39 - loss: 0.0445"
     ]
    }
   ],
   "source": [
    "P.train(4, 1e-1)"
   ]
  },
  {
   "cell_type": "markdown",
   "metadata": {},
   "source": [
    "nt = 5"
   ]
  },
  {
   "cell_type": "code",
   "execution_count": 1,
   "metadata": {},
   "outputs": [],
   "source": [
    "%matplotlib inline\n",
    "%reload_ext autoreload\n",
    "%autoreload 2"
   ]
  },
  {
   "cell_type": "code",
   "execution_count": 2,
   "metadata": {},
   "outputs": [],
   "source": [
    "from predrain import *\n",
    "sz = 256\n",
    "nt = 5\n",
    "bs = 6\n",
    "num_gpus = 1\n",
    "gpu_start = 0\n",
    "comment='nt5_from_scratch'"
   ]
  },
  {
   "cell_type": "code",
   "execution_count": 3,
   "metadata": {},
   "outputs": [],
   "source": [
    "mt = ModelType.PredNetLeakyRelu\n",
    "pred_mode = 'skip'"
   ]
  },
  {
   "cell_type": "code",
   "execution_count": 4,
   "metadata": {},
   "outputs": [],
   "source": [
    "P = Predrain()\n",
    "P.set_config(sz, nt, bs, mt, num_gpus, gpu_start, pred_mode, allow_growth=False, comment=comment)"
   ]
  },
  {
   "cell_type": "code",
   "execution_count": 5,
   "metadata": {},
   "outputs": [
    {
     "data": {
      "text/plain": [
       "((<tf.Tensor 'IteratorGetNext:0' shape=(?, 5, 256, 256, 1) dtype=float32>,\n",
       "  <tf.Tensor 'zeros:0' shape=(6, 1) dtype=float32>),\n",
       " (<tf.Tensor 'IteratorGetNext_1:0' shape=(?, 5, 256, 256, 1) dtype=float32>,\n",
       "  <tf.Tensor 'zeros_1:0' shape=(6, 1) dtype=float32>),\n",
       " 112500,\n",
       " 12500)"
      ]
     },
     "execution_count": 5,
     "metadata": {},
     "output_type": "execute_result"
    }
   ],
   "source": [
    "P.get_data(pred_mode=pred_mode, idx=range(1, 1 + 5))"
   ]
  },
  {
   "cell_type": "code",
   "execution_count": 6,
   "metadata": {},
   "outputs": [
    {
     "data": {
      "text/plain": [
       "<tensorflow.python.keras.engine.training.Model at 0x7f8c2e7ff828>"
      ]
     },
     "execution_count": 6,
     "metadata": {},
     "output_type": "execute_result"
    }
   ],
   "source": [
    "P.get_model(mt, output_mode='error')"
   ]
  },
  {
   "cell_type": "code",
   "execution_count": 15,
   "metadata": {},
   "outputs": [
    {
     "name": "stdout",
     "output_type": "stream",
     "text": [
      "Epoch 1/2\n",
      "37499/37500 [============================>.] - ETA: 0s - loss: 0.0391"
     ]
    },
    {
     "ename": "InvalidArgumentError",
     "evalue": "You must feed a value for placeholder tensor 'input_1' with dtype float and shape [?,5,256,256,1]\n\t [[{{node input_1}} = Placeholder[dtype=DT_FLOAT, shape=[?,5,256,256,1], _device=\"/job:localhost/replica:0/task:0/device:GPU:0\"]()]]\n\t [[{{node pred_net_1/layer_o_0/kernel_0/ReadVariableOp/_1821}} = _Recv[client_terminated=false, recv_device=\"/job:localhost/replica:0/task:0/device:CPU:0\", send_device=\"/job:localhost/replica:0/task:0/device:GPU:0\", send_device_incarnation=1, tensor_name=\"edge_2942_pred_net_1/layer_o_0/kernel_0/ReadVariableOp\", tensor_type=DT_FLOAT, _device=\"/job:localhost/replica:0/task:0/device:CPU:0\"]()]]",
     "output_type": "error",
     "traceback": [
      "\u001b[0;31m---------------------------------------------------------------------------\u001b[0m",
      "\u001b[0;31mInvalidArgumentError\u001b[0m                      Traceback (most recent call last)",
      "\u001b[0;32m<ipython-input-15-a42bcf9d2441>\u001b[0m in \u001b[0;36m<module>\u001b[0;34m()\u001b[0m\n\u001b[0;32m----> 1\u001b[0;31m \u001b[0mP\u001b[0m\u001b[0;34m.\u001b[0m\u001b[0mtrain\u001b[0m\u001b[0;34m(\u001b[0m\u001b[0mepochs\u001b[0m\u001b[0;34m=\u001b[0m\u001b[0;36m2\u001b[0m\u001b[0;34m,\u001b[0m \u001b[0mmax_lr\u001b[0m\u001b[0;34m=\u001b[0m\u001b[0;36m1e-3\u001b[0m\u001b[0;34m)\u001b[0m\u001b[0;34m\u001b[0m\u001b[0m\n\u001b[0m",
      "\u001b[0;32m~/jupyter/tianchi/pred-rain/yang/predrain.py\u001b[0m in \u001b[0;36mtrain\u001b[0;34m(self, epochs, max_lr)\u001b[0m\n\u001b[1;32m     62\u001b[0m         \u001b[0mself\u001b[0m\u001b[0;34m.\u001b[0m\u001b[0mpath_logs\u001b[0m\u001b[0;34m.\u001b[0m\u001b[0mmkdir\u001b[0m\u001b[0;34m(\u001b[0m\u001b[0;34m)\u001b[0m\u001b[0;34m\u001b[0m\u001b[0m\n\u001b[1;32m     63\u001b[0m \u001b[0;34m\u001b[0m\u001b[0m\n\u001b[0;32m---> 64\u001b[0;31m         \u001b[0mself\u001b[0m\u001b[0;34m.\u001b[0m\u001b[0mfit\u001b[0m\u001b[0;34m(\u001b[0m\u001b[0mepochs\u001b[0m\u001b[0;34m,\u001b[0m \u001b[0mmax_lr\u001b[0m\u001b[0;34m)\u001b[0m\u001b[0;34m\u001b[0m\u001b[0m\n\u001b[0m\u001b[1;32m     65\u001b[0m         \u001b[0mprint\u001b[0m\u001b[0;34m(\u001b[0m\u001b[0mself\u001b[0m\u001b[0;34m.\u001b[0m\u001b[0mMODEL_VERSION\u001b[0m\u001b[0;34m)\u001b[0m\u001b[0;34m\u001b[0m\u001b[0m\n\u001b[1;32m     66\u001b[0m \u001b[0;34m\u001b[0m\u001b[0m\n",
      "\u001b[0;32m~/jupyter/tianchi/pred-rain/yang/predrain.py\u001b[0m in \u001b[0;36mfit\u001b[0;34m(self, epochs, max_lr)\u001b[0m\n\u001b[1;32m     89\u001b[0m         \u001b[0mx\u001b[0m\u001b[0;34m,\u001b[0m \u001b[0my\u001b[0m \u001b[0;34m=\u001b[0m \u001b[0mself\u001b[0m\u001b[0;34m.\u001b[0m\u001b[0mtrn_tensors\u001b[0m\u001b[0;34m\u001b[0m\u001b[0m\n\u001b[1;32m     90\u001b[0m         self.model.fit(x, y, epochs=epochs, validation_data=self.val_tensors, callbacks=callbacks, \n\u001b[0;32m---> 91\u001b[0;31m                   steps_per_epoch=trn_steps, validation_steps=val_steps)\n\u001b[0m\u001b[1;32m     92\u001b[0m \u001b[0;34m\u001b[0m\u001b[0m\n\u001b[1;32m     93\u001b[0m \u001b[0;34m\u001b[0m\u001b[0m\n",
      "\u001b[0;32m/usr/local/anaconda3/envs/pred-rain/lib/python3.6/site-packages/tensorflow/python/keras/engine/training.py\u001b[0m in \u001b[0;36mfit\u001b[0;34m(self, x, y, batch_size, epochs, verbose, callbacks, validation_split, validation_data, shuffle, class_weight, sample_weight, initial_epoch, steps_per_epoch, validation_steps, **kwargs)\u001b[0m\n\u001b[1;32m   1590\u001b[0m           \u001b[0minitial_epoch\u001b[0m\u001b[0;34m=\u001b[0m\u001b[0minitial_epoch\u001b[0m\u001b[0;34m,\u001b[0m\u001b[0;34m\u001b[0m\u001b[0m\n\u001b[1;32m   1591\u001b[0m           \u001b[0msteps_per_epoch\u001b[0m\u001b[0;34m=\u001b[0m\u001b[0msteps_per_epoch\u001b[0m\u001b[0;34m,\u001b[0m\u001b[0;34m\u001b[0m\u001b[0m\n\u001b[0;32m-> 1592\u001b[0;31m           validation_steps=validation_steps)\n\u001b[0m\u001b[1;32m   1593\u001b[0m \u001b[0;34m\u001b[0m\u001b[0m\n\u001b[1;32m   1594\u001b[0m   def evaluate(self,\n",
      "\u001b[0;32m/usr/local/anaconda3/envs/pred-rain/lib/python3.6/site-packages/tensorflow/python/keras/engine/training_arrays.py\u001b[0m in \u001b[0;36mfit_loop\u001b[0;34m(model, inputs, targets, sample_weights, batch_size, epochs, verbose, callbacks, val_inputs, val_targets, val_sample_weights, shuffle, initial_epoch, steps_per_epoch, validation_steps)\u001b[0m\n\u001b[1;32m    178\u001b[0m             \u001b[0msample_weights\u001b[0m\u001b[0;34m=\u001b[0m\u001b[0mval_sample_weights\u001b[0m\u001b[0;34m,\u001b[0m\u001b[0;34m\u001b[0m\u001b[0m\n\u001b[1;32m    179\u001b[0m             \u001b[0msteps\u001b[0m\u001b[0;34m=\u001b[0m\u001b[0mvalidation_steps\u001b[0m\u001b[0;34m,\u001b[0m\u001b[0;34m\u001b[0m\u001b[0m\n\u001b[0;32m--> 180\u001b[0;31m             verbose=0)\n\u001b[0m\u001b[1;32m    181\u001b[0m         \u001b[0;32mif\u001b[0m \u001b[0;32mnot\u001b[0m \u001b[0misinstance\u001b[0m\u001b[0;34m(\u001b[0m\u001b[0mval_outs\u001b[0m\u001b[0;34m,\u001b[0m \u001b[0mlist\u001b[0m\u001b[0;34m)\u001b[0m\u001b[0;34m:\u001b[0m\u001b[0;34m\u001b[0m\u001b[0m\n\u001b[1;32m    182\u001b[0m           \u001b[0mval_outs\u001b[0m \u001b[0;34m=\u001b[0m \u001b[0;34m[\u001b[0m\u001b[0mval_outs\u001b[0m\u001b[0;34m]\u001b[0m\u001b[0;34m\u001b[0m\u001b[0m\n",
      "\u001b[0;32m/usr/local/anaconda3/envs/pred-rain/lib/python3.6/site-packages/tensorflow/python/keras/engine/training_arrays.py\u001b[0m in \u001b[0;36mtest_loop\u001b[0;34m(model, inputs, targets, sample_weights, batch_size, verbose, steps)\u001b[0m\n\u001b[1;32m    402\u001b[0m   \u001b[0;32mif\u001b[0m \u001b[0msteps\u001b[0m \u001b[0;32mis\u001b[0m \u001b[0;32mnot\u001b[0m \u001b[0;32mNone\u001b[0m\u001b[0;34m:\u001b[0m\u001b[0;34m\u001b[0m\u001b[0m\n\u001b[1;32m    403\u001b[0m     \u001b[0;32mfor\u001b[0m \u001b[0mstep\u001b[0m \u001b[0;32min\u001b[0m \u001b[0mrange\u001b[0m\u001b[0;34m(\u001b[0m\u001b[0msteps\u001b[0m\u001b[0;34m)\u001b[0m\u001b[0;34m:\u001b[0m\u001b[0;34m\u001b[0m\u001b[0m\n\u001b[0;32m--> 404\u001b[0;31m       \u001b[0mbatch_outs\u001b[0m \u001b[0;34m=\u001b[0m \u001b[0mf\u001b[0m\u001b[0;34m(\u001b[0m\u001b[0mins\u001b[0m\u001b[0;34m)\u001b[0m\u001b[0;34m\u001b[0m\u001b[0m\n\u001b[0m\u001b[1;32m    405\u001b[0m       \u001b[0;32mif\u001b[0m \u001b[0misinstance\u001b[0m\u001b[0;34m(\u001b[0m\u001b[0mbatch_outs\u001b[0m\u001b[0;34m,\u001b[0m \u001b[0mlist\u001b[0m\u001b[0;34m)\u001b[0m\u001b[0;34m:\u001b[0m\u001b[0;34m\u001b[0m\u001b[0m\n\u001b[1;32m    406\u001b[0m         \u001b[0;32mif\u001b[0m \u001b[0mstep\u001b[0m \u001b[0;34m==\u001b[0m \u001b[0;36m0\u001b[0m\u001b[0;34m:\u001b[0m\u001b[0;34m\u001b[0m\u001b[0m\n",
      "\u001b[0;32m/usr/local/anaconda3/envs/pred-rain/lib/python3.6/site-packages/tensorflow/python/keras/backend.py\u001b[0m in \u001b[0;36m__call__\u001b[0;34m(self, inputs)\u001b[0m\n\u001b[1;32m   2967\u001b[0m \u001b[0;34m\u001b[0m\u001b[0m\n\u001b[1;32m   2968\u001b[0m     fetched = self._callable_fn(*array_vals,\n\u001b[0;32m-> 2969\u001b[0;31m                                 run_metadata=self.run_metadata)\n\u001b[0m\u001b[1;32m   2970\u001b[0m     \u001b[0mself\u001b[0m\u001b[0;34m.\u001b[0m\u001b[0m_call_fetch_callbacks\u001b[0m\u001b[0;34m(\u001b[0m\u001b[0mfetched\u001b[0m\u001b[0;34m[\u001b[0m\u001b[0;34m-\u001b[0m\u001b[0mlen\u001b[0m\u001b[0;34m(\u001b[0m\u001b[0mself\u001b[0m\u001b[0;34m.\u001b[0m\u001b[0m_fetches\u001b[0m\u001b[0;34m)\u001b[0m\u001b[0;34m:\u001b[0m\u001b[0;34m]\u001b[0m\u001b[0;34m)\u001b[0m\u001b[0;34m\u001b[0m\u001b[0m\n\u001b[1;32m   2971\u001b[0m     \u001b[0;32mreturn\u001b[0m \u001b[0mfetched\u001b[0m\u001b[0;34m[\u001b[0m\u001b[0;34m:\u001b[0m\u001b[0mlen\u001b[0m\u001b[0;34m(\u001b[0m\u001b[0mself\u001b[0m\u001b[0;34m.\u001b[0m\u001b[0moutputs\u001b[0m\u001b[0;34m)\u001b[0m\u001b[0;34m]\u001b[0m\u001b[0;34m\u001b[0m\u001b[0m\n",
      "\u001b[0;32m/usr/local/anaconda3/envs/pred-rain/lib/python3.6/site-packages/tensorflow/python/client/session.py\u001b[0m in \u001b[0;36m__call__\u001b[0;34m(self, *args, **kwargs)\u001b[0m\n\u001b[1;32m   1397\u001b[0m           ret = tf_session.TF_SessionRunCallable(\n\u001b[1;32m   1398\u001b[0m               \u001b[0mself\u001b[0m\u001b[0;34m.\u001b[0m\u001b[0m_session\u001b[0m\u001b[0;34m.\u001b[0m\u001b[0m_session\u001b[0m\u001b[0;34m,\u001b[0m \u001b[0mself\u001b[0m\u001b[0;34m.\u001b[0m\u001b[0m_handle\u001b[0m\u001b[0;34m,\u001b[0m \u001b[0margs\u001b[0m\u001b[0;34m,\u001b[0m \u001b[0mstatus\u001b[0m\u001b[0;34m,\u001b[0m\u001b[0;34m\u001b[0m\u001b[0m\n\u001b[0;32m-> 1399\u001b[0;31m               run_metadata_ptr)\n\u001b[0m\u001b[1;32m   1400\u001b[0m         \u001b[0;32mif\u001b[0m \u001b[0mrun_metadata\u001b[0m\u001b[0;34m:\u001b[0m\u001b[0;34m\u001b[0m\u001b[0m\n\u001b[1;32m   1401\u001b[0m           \u001b[0mproto_data\u001b[0m \u001b[0;34m=\u001b[0m \u001b[0mtf_session\u001b[0m\u001b[0;34m.\u001b[0m\u001b[0mTF_GetBuffer\u001b[0m\u001b[0;34m(\u001b[0m\u001b[0mrun_metadata_ptr\u001b[0m\u001b[0;34m)\u001b[0m\u001b[0;34m\u001b[0m\u001b[0m\n",
      "\u001b[0;32m/usr/local/anaconda3/envs/pred-rain/lib/python3.6/site-packages/tensorflow/python/framework/errors_impl.py\u001b[0m in \u001b[0;36m__exit__\u001b[0;34m(self, type_arg, value_arg, traceback_arg)\u001b[0m\n\u001b[1;32m    517\u001b[0m             \u001b[0;32mNone\u001b[0m\u001b[0;34m,\u001b[0m \u001b[0;32mNone\u001b[0m\u001b[0;34m,\u001b[0m\u001b[0;34m\u001b[0m\u001b[0m\n\u001b[1;32m    518\u001b[0m             \u001b[0mcompat\u001b[0m\u001b[0;34m.\u001b[0m\u001b[0mas_text\u001b[0m\u001b[0;34m(\u001b[0m\u001b[0mc_api\u001b[0m\u001b[0;34m.\u001b[0m\u001b[0mTF_Message\u001b[0m\u001b[0;34m(\u001b[0m\u001b[0mself\u001b[0m\u001b[0;34m.\u001b[0m\u001b[0mstatus\u001b[0m\u001b[0;34m.\u001b[0m\u001b[0mstatus\u001b[0m\u001b[0;34m)\u001b[0m\u001b[0;34m)\u001b[0m\u001b[0;34m,\u001b[0m\u001b[0;34m\u001b[0m\u001b[0m\n\u001b[0;32m--> 519\u001b[0;31m             c_api.TF_GetCode(self.status.status))\n\u001b[0m\u001b[1;32m    520\u001b[0m     \u001b[0;31m# Delete the underlying status object from memory otherwise it stays alive\u001b[0m\u001b[0;34m\u001b[0m\u001b[0;34m\u001b[0m\u001b[0m\n\u001b[1;32m    521\u001b[0m     \u001b[0;31m# as there is a reference to status from this from the traceback due to\u001b[0m\u001b[0;34m\u001b[0m\u001b[0;34m\u001b[0m\u001b[0m\n",
      "\u001b[0;31mInvalidArgumentError\u001b[0m: You must feed a value for placeholder tensor 'input_1' with dtype float and shape [?,5,256,256,1]\n\t [[{{node input_1}} = Placeholder[dtype=DT_FLOAT, shape=[?,5,256,256,1], _device=\"/job:localhost/replica:0/task:0/device:GPU:0\"]()]]\n\t [[{{node pred_net_1/layer_o_0/kernel_0/ReadVariableOp/_1821}} = _Recv[client_terminated=false, recv_device=\"/job:localhost/replica:0/task:0/device:CPU:0\", send_device=\"/job:localhost/replica:0/task:0/device:GPU:0\", send_device_incarnation=1, tensor_name=\"edge_2942_pred_net_1/layer_o_0/kernel_0/ReadVariableOp\", tensor_type=DT_FLOAT, _device=\"/job:localhost/replica:0/task:0/device:CPU:0\"]()]]"
     ]
    }
   ],
   "source": [
    "P.train(epochs=2, max_lr=1e-3)"
   ]
  },
  {
   "cell_type": "code",
   "execution_count": 16,
   "metadata": {},
   "outputs": [
    {
     "name": "stderr",
     "output_type": "stream",
     "text": [
      "[autoreload of models.model_factory failed: Traceback (most recent call last):\n",
      "  File \"/usr/local/anaconda3/envs/pred-rain/lib/python3.6/site-packages/IPython/extensions/autoreload.py\", line 245, in check\n",
      "    superreload(m, reload, self.old_objects)\n",
      "  File \"/usr/local/anaconda3/envs/pred-rain/lib/python3.6/site-packages/IPython/extensions/autoreload.py\", line 368, in superreload\n",
      "    module = reload(module)\n",
      "  File \"/usr/local/anaconda3/envs/pred-rain/lib/python3.6/imp.py\", line 315, in reload\n",
      "    return importlib.reload(module)\n",
      "  File \"/usr/local/anaconda3/envs/pred-rain/lib/python3.6/importlib/__init__.py\", line 166, in reload\n",
      "    _bootstrap._exec(spec, module)\n",
      "  File \"<frozen importlib._bootstrap>\", line 618, in _exec\n",
      "  File \"<frozen importlib._bootstrap_external>\", line 678, in exec_module\n",
      "  File \"<frozen importlib._bootstrap>\", line 219, in _call_with_frames_removed\n",
      "  File \"/home/zyc/jupyter/tianchi/pred-rain/yang/models/model_factory.py\", line 3, in <module>\n",
      "    from .darkprednet import *\n",
      "  File \"/home/zyc/jupyter/tianchi/pred-rain/yang/models/darkprednet.py\", line 5, in <module>\n",
      "    class DarkPredNetCellV1(Layer):\n",
      "NameError: name 'Layer' is not defined\n",
      "]\n"
     ]
    }
   ],
   "source": [
    "P.model.save_weights('2.2.1.h5')"
   ]
  },
  {
   "cell_type": "code",
   "execution_count": 7,
   "metadata": {},
   "outputs": [],
   "source": [
    "P.model.load_weights('2.2.1.h5')"
   ]
  },
  {
   "cell_type": "code",
   "execution_count": null,
   "metadata": {},
   "outputs": [
    {
     "name": "stdout",
     "output_type": "stream",
     "text": [
      "Epoch 2/2\n",
      "  708/37500 [..............................] - ETA: 8:13:16 - loss: 0.0432"
     ]
    }
   ],
   "source": [
    "P.fit(2, 1e-3, initial_epoch=1)"
   ]
  },
  {
   "cell_type": "code",
   "execution_count": null,
   "metadata": {},
   "outputs": [],
   "source": []
  }
 ],
 "metadata": {
  "kernelspec": {
   "display_name": "Python 3",
   "language": "python",
   "name": "python3"
  },
  "language_info": {
   "codemirror_mode": {
    "name": "ipython",
    "version": 3
   },
   "file_extension": ".py",
   "mimetype": "text/x-python",
   "name": "python",
   "nbconvert_exporter": "python",
   "pygments_lexer": "ipython3",
   "version": "3.6.6"
  }
 },
 "nbformat": 4,
 "nbformat_minor": 2
}
