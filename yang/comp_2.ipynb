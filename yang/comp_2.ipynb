{
 "cells": [
  {
   "cell_type": "code",
   "execution_count": 1,
   "metadata": {},
   "outputs": [],
   "source": [
    "%matplotlib inline\n",
    "%reload_ext autoreload\n",
    "%autoreload 2"
   ]
  },
  {
   "cell_type": "markdown",
   "metadata": {},
   "source": [
    "### Data"
   ]
  },
  {
   "cell_type": "code",
   "execution_count": 2,
   "metadata": {},
   "outputs": [],
   "source": [
    "from predrain import *\n",
    "sz = 128\n",
    "nt = 10\n",
    "bs = 14 # calculate this\n",
    "num_gpus = 1\n",
    "gpu_start = 1"
   ]
  },
  {
   "cell_type": "code",
   "execution_count": 3,
   "metadata": {},
   "outputs": [],
   "source": [
    "mt = ModelType.PredNetLeakyRelu"
   ]
  },
  {
   "cell_type": "code",
   "execution_count": 4,
   "metadata": {},
   "outputs": [],
   "source": [
    "P = Predrain()\n",
    "P.set_config(sz, nt, bs, mt, num_gpus, gpu_start, allow_growth=False)"
   ]
  },
  {
   "cell_type": "code",
   "execution_count": 5,
   "metadata": {},
   "outputs": [
    {
     "data": {
      "text/plain": [
       "((<tf.Tensor 'IteratorGetNext:0' shape=(?, 10, 128, 128, 1) dtype=float32>,\n",
       "  <tf.Tensor 'zeros:0' shape=(14, 1) dtype=float32>),\n",
       " (<tf.Tensor 'IteratorGetNext_1:0' shape=(?, 10, 128, 128, 1) dtype=float32>,\n",
       "  <tf.Tensor 'zeros_1:0' shape=(14, 1) dtype=float32>),\n",
       " 45000,\n",
       " 5000)"
      ]
     },
     "execution_count": 5,
     "metadata": {},
     "output_type": "execute_result"
    }
   ],
   "source": [
    "P.get_data(pred_mode='skip', idx=range(1, 1 + 2))"
   ]
  },
  {
   "cell_type": "code",
   "execution_count": 6,
   "metadata": {},
   "outputs": [
    {
     "data": {
      "text/plain": [
       "<tensorflow.python.keras.engine.training.Model at 0x7f742c5cb550>"
      ]
     },
     "execution_count": 6,
     "metadata": {},
     "output_type": "execute_result"
    }
   ],
   "source": [
    "P.get_model(mt)"
   ]
  },
  {
   "cell_type": "code",
   "execution_count": 7,
   "metadata": {},
   "outputs": [],
   "source": [
    "P.load(ModelType.PredNetOriginal, 128, 1)"
   ]
  },
  {
   "cell_type": "markdown",
   "metadata": {},
   "source": [
    "sz=128 continue from epoch=1"
   ]
  },
  {
   "cell_type": "code",
   "execution_count": 8,
   "metadata": {},
   "outputs": [
    {
     "name": "stdout",
     "output_type": "stream",
     "text": [
      "Epoch 1/2\n",
      "6427/6428 [============================>.] - ETA: 0s - loss: 0.0352 - lr: 0.00000 - momentum: 0.95 \n",
      "6428/6428 [==============================] - 5758s 896ms/step - loss: 0.0351 - val_loss: 0.0392\n",
      "Epoch 2/2\n",
      "6427/6428 [============================>.] - ETA: 0s - loss: 0.0344 - lr: 0.00000 - momentum: 0.95 \n",
      "6428/6428 [==============================] - 5776s 899ms/step - loss: 0.0344 - val_loss: 0.0386\n"
     ]
    }
   ],
   "source": [
    "P.train(2)"
   ]
  },
  {
   "cell_type": "code",
   "execution_count": 1,
   "metadata": {},
   "outputs": [
    {
     "name": "stdout",
     "output_type": "stream",
     "text": [
      "Processing subdirectory: 100%|██████████████████████████████████████████████████████████████████████████████████████████████████████████████████████████████████████████████| 5000/5000 [00:27<00:00, 183.25it/s]\n",
      "Processing subdirectory: 100%|███████████████████████████████████████████████████████████████████████████████████████████████████████████████████████████████████████████████| 5000/5000 [00:50<00:00, 98.66it/s]\n",
      "Processing subdirectory: 100%|███████████████████████████████████████████████████████████████████████████████████████████████████████████████████████████████████████████████| 5000/5000 [01:11<00:00, 70.03it/s]\n",
      "3it [03:45, 75.29s/it]"
     ]
    }
   ],
   "source": [
    "%run preprocessing ../data/SRAD2018/ 7,8,9 ../data False contiguous --nt 10"
   ]
  },
  {
   "cell_type": "code",
   "execution_count": null,
   "metadata": {},
   "outputs": [
    {
     "name": "stdout",
     "output_type": "stream",
     "text": [
      "Processing subdirectory: 100%|███████████████████████████████████████████████████████████████████████████████████████████████████████████████████████████████████████████████| 5000/5000 [02:10<00:00, 38.43it/s]\n",
      "Processing subdirectory:  73%|████████████████████████████████████████████████████████████████████████████████████████████████████████▋                                      | 3659/5000 [01:57<00:43, 31.01it/s]"
     ]
    }
   ],
   "source": [
    "%run preprocessing ../data/SRAD2018/ 3,4,5,6,7,8,9 ../data False skip --nt=10 --stop=5"
   ]
  },
  {
   "cell_type": "markdown",
   "metadata": {},
   "source": [
    "# Run script"
   ]
  },
  {
   "cell_type": "code",
   "execution_count": 1,
   "metadata": {},
   "outputs": [],
   "source": [
    "%matplotlib inline\n",
    "%reload_ext autoreload\n",
    "%autoreload 2"
   ]
  },
  {
   "cell_type": "code",
   "execution_count": null,
   "metadata": {},
   "outputs": [
    {
     "name": "stdout",
     "output_type": "stream",
     "text": [
      "Epoch 1/2\n",
      "34041/56250 [=================>............] - ETA: 6:58:00 - loss: 0.0650"
     ]
    }
   ],
   "source": [
    "%run train --sz=256 --nt=5 --bs=4 --num_gpus=1 --gpu_start=1 --mt-idx=3\\\n",
    "    --pred-mode=skip --data-idx=1,2,3,4,5 --epochs=2 --max_lr=1e-3 --train"
   ]
  },
  {
   "cell_type": "code",
   "execution_count": null,
   "metadata": {},
   "outputs": [],
   "source": []
  }
 ],
 "metadata": {
  "kernelspec": {
   "display_name": "Python 3",
   "language": "python",
   "name": "python3"
  },
  "language_info": {
   "codemirror_mode": {
    "name": "ipython",
    "version": 3
   },
   "file_extension": ".py",
   "mimetype": "text/x-python",
   "name": "python",
   "nbconvert_exporter": "python",
   "pygments_lexer": "ipython3",
   "version": "3.6.6"
  }
 },
 "nbformat": 4,
 "nbformat_minor": 2
}
