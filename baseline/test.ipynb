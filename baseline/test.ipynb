{
 "cells": [
  {
   "cell_type": "markdown",
   "metadata": {},
   "source": [
    "# Test cvt2tfrecords"
   ]
  },
  {
   "cell_type": "code",
   "execution_count": 1,
   "metadata": {},
   "outputs": [],
   "source": [
    "from preprocess.cvt2tfrecord import cvter\n",
    "import tensorflow as tf"
   ]
  },
  {
   "cell_type": "code",
   "execution_count": 2,
   "metadata": {},
   "outputs": [
    {
     "name": "stdout",
     "output_type": "stream",
     "text": [
      "before:  5000\n",
      "after:  100\n",
      "before:  5000\n",
      "after:  100\n"
     ]
    }
   ],
   "source": [
    "cvt = cvter('01.tfrecords', 'data/')\n",
    "cvt_test = cvter('01.tfrecords', 'data/')"
   ]
  },
  {
   "cell_type": "code",
   "execution_count": 3,
   "metadata": {},
   "outputs": [
    {
     "data": {
      "text/plain": [
       "(20, 80, 20, 80)"
      ]
     },
     "execution_count": 3,
     "metadata": {},
     "output_type": "execute_result"
    }
   ],
   "source": [
    "len(cvt.vali_sub_dirs), len(cvt.train_sub_dirs), len(cvt_test.vali_sub_dirs), len(cvt_test.train_sub_dirs)"
   ]
  },
  {
   "cell_type": "code",
   "execution_count": 4,
   "metadata": {},
   "outputs": [
    {
     "name": "stdout",
     "output_type": "stream",
     "text": [
      "Wall time: 32.1 s\n"
     ]
    }
   ],
   "source": [
    "%%time\n",
    "cvt.convert()"
   ]
  },
  {
   "cell_type": "code",
   "execution_count": 5,
   "metadata": {},
   "outputs": [
    {
     "name": "stdout",
     "output_type": "stream",
     "text": [
      "data\n",
      "LICENSE\n",
      "logs\n",
      "main.py\n",
      "models\n",
      "preprocess\n",
      "pretrained\n",
      "README.md\n",
      "samples\n",
      "test.ipynb\n",
      "yang-playground.ipynb\n"
     ]
    }
   ],
   "source": [
    "!rm *.tfrecords\n",
    "!ls"
   ]
  },
  {
   "cell_type": "code",
   "execution_count": 6,
   "metadata": {},
   "outputs": [
    {
     "name": "stdout",
     "output_type": "stream",
     "text": [
      "Wall time: 32.6 s\n"
     ]
    }
   ],
   "source": [
    "%%time\n",
    "cvt_test.convert_test()"
   ]
  },
  {
   "cell_type": "markdown",
   "metadata": {},
   "source": [
    "# Test data_reader"
   ]
  },
  {
   "cell_type": "code",
   "execution_count": null,
   "metadata": {},
   "outputs": [],
   "source": [
    "from preprocess.data_reader import data_reader\n",
    "import tensorflow as tf\n",
    "sess = tf.InteractiveSession()"
   ]
  },
  {
   "cell_type": "code",
   "execution_count": null,
   "metadata": {},
   "outputs": [],
   "source": [
    "dr = data_reader('train_01.tfrecords', 'vali_01.tfrecords')\n",
    "X, y = dr.read_and_decode(sess, 2)"
   ]
  },
  {
   "cell_type": "code",
   "execution_count": null,
   "metadata": {},
   "outputs": [],
   "source": [
    "X, y"
   ]
  },
  {
   "cell_type": "code",
   "execution_count": null,
   "metadata": {
    "scrolled": true
   },
   "outputs": [],
   "source": [
    "for i in range(2):\n",
    "    print('train mode')\n",
    "    fd = dr.set_mode('train')\n",
    "    for _ in range(20):\n",
    "        X_, y_ = sess.run([X, y], feed_dict=fd)\n",
    "        print('X_.shape :', X_.shape)\n",
    "        print('y_.shape :', y_.shape)\n",
    "    \n",
    "    print('valid mode')\n",
    "    fd = dr.set_mode('valid')\n",
    "    for _ in range(5):\n",
    "        X_, y_ = sess.run([X, y], feed_dict=fd)\n",
    "        print('X_.shape :', X_.shape)\n",
    "        print('y_.shape :', y_.shape)"
   ]
  },
  {
   "cell_type": "code",
   "execution_count": null,
   "metadata": {},
   "outputs": [],
   "source": []
  }
 ],
 "metadata": {
  "kernelspec": {
   "display_name": "Python 3",
   "language": "python",
   "name": "python3"
  },
  "language_info": {
   "codemirror_mode": {
    "name": "ipython",
    "version": 3
   },
   "file_extension": ".py",
   "mimetype": "text/x-python",
   "name": "python",
   "nbconvert_exporter": "python",
   "pygments_lexer": "ipython3",
   "version": "3.6.2"
  }
 },
 "nbformat": 4,
 "nbformat_minor": 2
}
